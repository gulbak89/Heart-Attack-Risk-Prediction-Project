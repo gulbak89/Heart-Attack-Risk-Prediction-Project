{
 "cells": [
  {
   "cell_type": "code",
   "execution_count": 2,
   "id": "0cd6a9a3-8a80-47b5-aac4-45a2879f6824",
   "metadata": {
    "tags": []
   },
   "outputs": [],
   "source": [
    "import numpy as np\n",
    "import pandas as pd\n",
    "import matplotlib.pyplot as plt\n",
    "import seaborn as sns\n",
    "from sklearn.linear_model import LogisticRegression,LinearRegression\n",
    "from sklearn.preprocessing import StandardScaler, PolynomialFeatures,LabelEncoder\n",
    "from sklearn.model_selection import train_test_split\n",
    "from sklearn.tree import DecisionTreeClassifier\n",
    "from sklearn.ensemble import RandomForestClassifier\n",
    "from xgboost import XGBClassifier\n",
    "from sklearn.metrics import confusion_matrix,classification_report,log_loss,accuracy_score, confusion_matrix\n",
    "from sklearn.model_selection import GridSearchCV\n",
    "from imblearn.over_sampling import RandomOverSampler\n",
    "from sklearn.model_selection import GridSearchCV\n",
    "import warnings\n",
    "warnings.filterwarnings('ignore')\n",
    "\n",
    "# reduce display precision on numpy arrays\n",
    "np.set_printoptions(precision=2)\n",
    "\n",
    " "
   ]
  },
  {
   "cell_type": "markdown",
   "id": "7cb65691-1e1a-458f-8042-a359f0eb878e",
   "metadata": {},
   "source": [
    "# 1. About the Dataset"
   ]
  },
  {
   "cell_type": "markdown",
   "id": "2d111ccb-d25d-4fbf-b67f-d774e0fb9c0f",
   "metadata": {},
   "source": [
    "### 1.1 Loading the Dataset"
   ]
  },
  {
   "cell_type": "markdown",
   "id": "ad078752-41f7-40fc-88df-dbde3c66ca93",
   "metadata": {
    "tags": []
   },
   "source": [
    "**Dataset**: https://www.kaggle.com/datasets/iamsouravbanerjee/heart-attack-prediction-dataset"
   ]
  },
  {
   "cell_type": "code",
   "execution_count": 3,
   "id": "4b926e65-53f9-4dba-9592-4da69b2d72a7",
   "metadata": {
    "tags": []
   },
   "outputs": [
    {
     "data": {
      "text/html": [
       "<div>\n",
       "<style scoped>\n",
       "    .dataframe tbody tr th:only-of-type {\n",
       "        vertical-align: middle;\n",
       "    }\n",
       "\n",
       "    .dataframe tbody tr th {\n",
       "        vertical-align: top;\n",
       "    }\n",
       "\n",
       "    .dataframe thead th {\n",
       "        text-align: right;\n",
       "    }\n",
       "</style>\n",
       "<table border=\"1\" class=\"dataframe\">\n",
       "  <thead>\n",
       "    <tr style=\"text-align: right;\">\n",
       "      <th></th>\n",
       "      <th>Patient ID</th>\n",
       "      <th>Age</th>\n",
       "      <th>Sex</th>\n",
       "      <th>Cholesterol</th>\n",
       "      <th>Blood Pressure</th>\n",
       "      <th>Heart Rate</th>\n",
       "      <th>Diabetes</th>\n",
       "      <th>Family History</th>\n",
       "      <th>Smoking</th>\n",
       "      <th>Obesity</th>\n",
       "      <th>...</th>\n",
       "      <th>Sedentary Hours Per Day</th>\n",
       "      <th>Income</th>\n",
       "      <th>BMI</th>\n",
       "      <th>Triglycerides</th>\n",
       "      <th>Physical Activity Days Per Week</th>\n",
       "      <th>Sleep Hours Per Day</th>\n",
       "      <th>Country</th>\n",
       "      <th>Continent</th>\n",
       "      <th>Hemisphere</th>\n",
       "      <th>Heart Attack Risk</th>\n",
       "    </tr>\n",
       "  </thead>\n",
       "  <tbody>\n",
       "    <tr>\n",
       "      <th>0</th>\n",
       "      <td>BMW7812</td>\n",
       "      <td>67</td>\n",
       "      <td>Male</td>\n",
       "      <td>208</td>\n",
       "      <td>158/88</td>\n",
       "      <td>72</td>\n",
       "      <td>0</td>\n",
       "      <td>0</td>\n",
       "      <td>1</td>\n",
       "      <td>0</td>\n",
       "      <td>...</td>\n",
       "      <td>6.615001</td>\n",
       "      <td>261404</td>\n",
       "      <td>31.251233</td>\n",
       "      <td>286</td>\n",
       "      <td>0</td>\n",
       "      <td>6</td>\n",
       "      <td>Argentina</td>\n",
       "      <td>South America</td>\n",
       "      <td>Southern Hemisphere</td>\n",
       "      <td>0</td>\n",
       "    </tr>\n",
       "    <tr>\n",
       "      <th>1</th>\n",
       "      <td>CZE1114</td>\n",
       "      <td>21</td>\n",
       "      <td>Male</td>\n",
       "      <td>389</td>\n",
       "      <td>165/93</td>\n",
       "      <td>98</td>\n",
       "      <td>1</td>\n",
       "      <td>1</td>\n",
       "      <td>1</td>\n",
       "      <td>1</td>\n",
       "      <td>...</td>\n",
       "      <td>4.963459</td>\n",
       "      <td>285768</td>\n",
       "      <td>27.194973</td>\n",
       "      <td>235</td>\n",
       "      <td>1</td>\n",
       "      <td>7</td>\n",
       "      <td>Canada</td>\n",
       "      <td>North America</td>\n",
       "      <td>Northern Hemisphere</td>\n",
       "      <td>0</td>\n",
       "    </tr>\n",
       "    <tr>\n",
       "      <th>2</th>\n",
       "      <td>BNI9906</td>\n",
       "      <td>21</td>\n",
       "      <td>Female</td>\n",
       "      <td>324</td>\n",
       "      <td>174/99</td>\n",
       "      <td>72</td>\n",
       "      <td>1</td>\n",
       "      <td>0</td>\n",
       "      <td>0</td>\n",
       "      <td>0</td>\n",
       "      <td>...</td>\n",
       "      <td>9.463426</td>\n",
       "      <td>235282</td>\n",
       "      <td>28.176571</td>\n",
       "      <td>587</td>\n",
       "      <td>4</td>\n",
       "      <td>4</td>\n",
       "      <td>France</td>\n",
       "      <td>Europe</td>\n",
       "      <td>Northern Hemisphere</td>\n",
       "      <td>0</td>\n",
       "    </tr>\n",
       "    <tr>\n",
       "      <th>3</th>\n",
       "      <td>JLN3497</td>\n",
       "      <td>84</td>\n",
       "      <td>Male</td>\n",
       "      <td>383</td>\n",
       "      <td>163/100</td>\n",
       "      <td>73</td>\n",
       "      <td>1</td>\n",
       "      <td>1</td>\n",
       "      <td>1</td>\n",
       "      <td>0</td>\n",
       "      <td>...</td>\n",
       "      <td>7.648981</td>\n",
       "      <td>125640</td>\n",
       "      <td>36.464704</td>\n",
       "      <td>378</td>\n",
       "      <td>3</td>\n",
       "      <td>4</td>\n",
       "      <td>Canada</td>\n",
       "      <td>North America</td>\n",
       "      <td>Northern Hemisphere</td>\n",
       "      <td>0</td>\n",
       "    </tr>\n",
       "    <tr>\n",
       "      <th>4</th>\n",
       "      <td>GFO8847</td>\n",
       "      <td>66</td>\n",
       "      <td>Male</td>\n",
       "      <td>318</td>\n",
       "      <td>91/88</td>\n",
       "      <td>93</td>\n",
       "      <td>1</td>\n",
       "      <td>1</td>\n",
       "      <td>1</td>\n",
       "      <td>1</td>\n",
       "      <td>...</td>\n",
       "      <td>1.514821</td>\n",
       "      <td>160555</td>\n",
       "      <td>21.809144</td>\n",
       "      <td>231</td>\n",
       "      <td>1</td>\n",
       "      <td>5</td>\n",
       "      <td>Thailand</td>\n",
       "      <td>Asia</td>\n",
       "      <td>Northern Hemisphere</td>\n",
       "      <td>0</td>\n",
       "    </tr>\n",
       "  </tbody>\n",
       "</table>\n",
       "<p>5 rows × 26 columns</p>\n",
       "</div>"
      ],
      "text/plain": [
       "  Patient ID  Age     Sex  Cholesterol Blood Pressure  Heart Rate  Diabetes  \\\n",
       "0    BMW7812   67    Male          208         158/88          72         0   \n",
       "1    CZE1114   21    Male          389         165/93          98         1   \n",
       "2    BNI9906   21  Female          324         174/99          72         1   \n",
       "3    JLN3497   84    Male          383        163/100          73         1   \n",
       "4    GFO8847   66    Male          318          91/88          93         1   \n",
       "\n",
       "   Family History  Smoking  Obesity  ...  Sedentary Hours Per Day  Income  \\\n",
       "0               0        1        0  ...                 6.615001  261404   \n",
       "1               1        1        1  ...                 4.963459  285768   \n",
       "2               0        0        0  ...                 9.463426  235282   \n",
       "3               1        1        0  ...                 7.648981  125640   \n",
       "4               1        1        1  ...                 1.514821  160555   \n",
       "\n",
       "         BMI  Triglycerides  Physical Activity Days Per Week  \\\n",
       "0  31.251233            286                                0   \n",
       "1  27.194973            235                                1   \n",
       "2  28.176571            587                                4   \n",
       "3  36.464704            378                                3   \n",
       "4  21.809144            231                                1   \n",
       "\n",
       "   Sleep Hours Per Day    Country      Continent           Hemisphere  \\\n",
       "0                    6  Argentina  South America  Southern Hemisphere   \n",
       "1                    7     Canada  North America  Northern Hemisphere   \n",
       "2                    4     France         Europe  Northern Hemisphere   \n",
       "3                    4     Canada  North America  Northern Hemisphere   \n",
       "4                    5   Thailand           Asia  Northern Hemisphere   \n",
       "\n",
       "   Heart Attack Risk  \n",
       "0                  0  \n",
       "1                  0  \n",
       "2                  0  \n",
       "3                  0  \n",
       "4                  0  \n",
       "\n",
       "[5 rows x 26 columns]"
      ]
     },
     "execution_count": 3,
     "metadata": {},
     "output_type": "execute_result"
    }
   ],
   "source": [
    "df = pd.read_csv('heart_attack_prediction_dataset.csv')\n",
    "df.head(5)\n"
   ]
  },
  {
   "cell_type": "code",
   "execution_count": 4,
   "id": "c3174c28-021c-421a-94ad-8c4b0855fa81",
   "metadata": {
    "tags": []
   },
   "outputs": [
    {
     "data": {
      "text/plain": [
       "(8763, 26)"
      ]
     },
     "execution_count": 4,
     "metadata": {},
     "output_type": "execute_result"
    }
   ],
   "source": [
    "df.shape"
   ]
  },
  {
   "cell_type": "code",
   "execution_count": 5,
   "id": "89c73be8-f667-4b7d-ba17-32c6024af54b",
   "metadata": {
    "tags": []
   },
   "outputs": [
    {
     "name": "stdout",
     "output_type": "stream",
     "text": [
      "<class 'pandas.core.frame.DataFrame'>\n",
      "RangeIndex: 8763 entries, 0 to 8762\n",
      "Data columns (total 26 columns):\n",
      " #   Column                           Non-Null Count  Dtype  \n",
      "---  ------                           --------------  -----  \n",
      " 0   Patient ID                       8763 non-null   object \n",
      " 1   Age                              8763 non-null   int64  \n",
      " 2   Sex                              8763 non-null   object \n",
      " 3   Cholesterol                      8763 non-null   int64  \n",
      " 4   Blood Pressure                   8763 non-null   object \n",
      " 5   Heart Rate                       8763 non-null   int64  \n",
      " 6   Diabetes                         8763 non-null   int64  \n",
      " 7   Family History                   8763 non-null   int64  \n",
      " 8   Smoking                          8763 non-null   int64  \n",
      " 9   Obesity                          8763 non-null   int64  \n",
      " 10  Alcohol Consumption              8763 non-null   int64  \n",
      " 11  Exercise Hours Per Week          8763 non-null   float64\n",
      " 12  Diet                             8763 non-null   object \n",
      " 13  Previous Heart Problems          8763 non-null   int64  \n",
      " 14  Medication Use                   8763 non-null   int64  \n",
      " 15  Stress Level                     8763 non-null   int64  \n",
      " 16  Sedentary Hours Per Day          8763 non-null   float64\n",
      " 17  Income                           8763 non-null   int64  \n",
      " 18  BMI                              8763 non-null   float64\n",
      " 19  Triglycerides                    8763 non-null   int64  \n",
      " 20  Physical Activity Days Per Week  8763 non-null   int64  \n",
      " 21  Sleep Hours Per Day              8763 non-null   int64  \n",
      " 22  Country                          8763 non-null   object \n",
      " 23  Continent                        8763 non-null   object \n",
      " 24  Hemisphere                       8763 non-null   object \n",
      " 25  Heart Attack Risk                8763 non-null   int64  \n",
      "dtypes: float64(3), int64(16), object(7)\n",
      "memory usage: 1.7+ MB\n"
     ]
    }
   ],
   "source": [
    "df.info()"
   ]
  },
  {
   "cell_type": "markdown",
   "id": "95093771-50e0-4a41-a960-70545aa6f8f8",
   "metadata": {},
   "source": [
    "\n",
    "\n",
    "### 1.1 Dataset Glossary:\n",
    "\n",
    "There are 25 columns , and all the columns contains not-null values.\n",
    "\n",
    "**Patient ID** - Unique identifier for each patient, which is stored as string.\n",
    "\n",
    "__Age__ - Age of the patient, which is stored as integer.\n",
    "\n",
    "**Sex** - Gender of the patient (Male/Female), which is stored as string.\n",
    "\n",
    "**Cholesterol** - Cholesterol levels of the patient, which is stored as integer.\n",
    "\n",
    "**Blood Pressure** - Blood pressure of the patient (systolic/diastolic), which is stored as string.\n",
    "\n",
    "**Heart Rate** - Heart rate of the patient, which is stored as integer.\n",
    "\n",
    "**Diabetes** - Whether the patient has diabetes (Yes/No), which is stored as integer.\n",
    "\n",
    "**Family History** - Family history of heart-related problems (1: Yes, 0: No), which is stored as integer.\n",
    "\n",
    "**Smoking** - Smoking status of the patient (1: Smoker, 0: Non-smoker), which is stored as integer.\n",
    "\n",
    "**Obesity** - Obesity status of the patient (1: Obese, 0: Not obese), which is stored as integer.\n",
    "\n",
    "**Alcohol Consumption** - Level of alcohol consumption by the patient (None/Light/Moderate/Heavy), which is stored as integer.\n",
    "\n",
    "**Exercise Hours Per Week** - Number of exercise hours per week, which is stored as float.\n",
    "\n",
    "**Diet** - Dietary habits of the patient (Healthy/Average/Unhealthy), which is stored as string.\n",
    "\n",
    "**Previous Heart Problems** - Previous heart problems of the patient (1: Yes, 0: No), which is stored as integer.\n",
    "\n",
    "**Medication Use** - Medication usage by the patient (1: Yes, 0: No), which is stored as integer.\n",
    "\n",
    "**Stress Level** - Stress level reported by the patient (1-10), which is stored as integer.\n",
    "\n",
    "**Sedentary Hours Per Day** - Hours of sedentary activity per day, which is stored as float.\n",
    "\n",
    "**Income** - Income level of the patient, which is stored as integer.\n",
    "\n",
    "**BMI** - Body Mass Index (BMI) of the patient, which is stored as float.\n",
    "\n",
    "**Triglycerides** - Triglyceride levels of the patient, which is stored as integer.\n",
    "\n",
    "**Physical Activity Days Per Week** - Days of physical activity per week, which is stored as integer.\n",
    "\n",
    "**Sleep Hours Per Day** - Hours of sleep per day, which is stored as integer.\n",
    "\n",
    "**Country** - Country of the patient, which is stored as string.\n",
    "\n",
    "**Continent** - Continent where the patient resides, which is stored as string.\n",
    "\n",
    "**Hemisphere** - Hemisphere where the patient resides, which is stored as string\n",
    "\n",
    "**Heart Attack Risk** - Presence of heart attack risk (1: Yes, 0: No), which is stored as integer. target output."
   ]
  },
  {
   "cell_type": "markdown",
   "id": "4eb49a07-6b17-4edc-820f-e8b0090dcd77",
   "metadata": {},
   "source": [
    "### 1.2 Descriptive Statistics of Numerical Features of the Dataset"
   ]
  },
  {
   "cell_type": "code",
   "execution_count": 6,
   "id": "b4cc4bf7-e2e3-4e2c-89ff-58284fbbb74d",
   "metadata": {
    "tags": []
   },
   "outputs": [
    {
     "data": {
      "text/html": [
       "<div>\n",
       "<style scoped>\n",
       "    .dataframe tbody tr th:only-of-type {\n",
       "        vertical-align: middle;\n",
       "    }\n",
       "\n",
       "    .dataframe tbody tr th {\n",
       "        vertical-align: top;\n",
       "    }\n",
       "\n",
       "    .dataframe thead th {\n",
       "        text-align: right;\n",
       "    }\n",
       "</style>\n",
       "<table border=\"1\" class=\"dataframe\">\n",
       "  <thead>\n",
       "    <tr style=\"text-align: right;\">\n",
       "      <th></th>\n",
       "      <th>Age</th>\n",
       "      <th>Cholesterol</th>\n",
       "      <th>Heart Rate</th>\n",
       "      <th>Diabetes</th>\n",
       "      <th>Family History</th>\n",
       "      <th>Smoking</th>\n",
       "      <th>Obesity</th>\n",
       "      <th>Alcohol Consumption</th>\n",
       "      <th>Exercise Hours Per Week</th>\n",
       "      <th>Previous Heart Problems</th>\n",
       "      <th>Medication Use</th>\n",
       "      <th>Stress Level</th>\n",
       "      <th>Sedentary Hours Per Day</th>\n",
       "      <th>Income</th>\n",
       "      <th>BMI</th>\n",
       "      <th>Triglycerides</th>\n",
       "      <th>Physical Activity Days Per Week</th>\n",
       "      <th>Sleep Hours Per Day</th>\n",
       "      <th>Heart Attack Risk</th>\n",
       "    </tr>\n",
       "  </thead>\n",
       "  <tbody>\n",
       "    <tr>\n",
       "      <th>count</th>\n",
       "      <td>8763.000000</td>\n",
       "      <td>8763.000000</td>\n",
       "      <td>8763.000000</td>\n",
       "      <td>8763.000000</td>\n",
       "      <td>8763.000000</td>\n",
       "      <td>8763.000000</td>\n",
       "      <td>8763.000000</td>\n",
       "      <td>8763.000000</td>\n",
       "      <td>8763.000000</td>\n",
       "      <td>8763.000000</td>\n",
       "      <td>8763.000000</td>\n",
       "      <td>8763.000000</td>\n",
       "      <td>8763.000000</td>\n",
       "      <td>8763.000000</td>\n",
       "      <td>8763.000000</td>\n",
       "      <td>8763.000000</td>\n",
       "      <td>8763.000000</td>\n",
       "      <td>8763.000000</td>\n",
       "      <td>8763.000000</td>\n",
       "    </tr>\n",
       "    <tr>\n",
       "      <th>mean</th>\n",
       "      <td>53.707977</td>\n",
       "      <td>259.877211</td>\n",
       "      <td>75.021682</td>\n",
       "      <td>0.652288</td>\n",
       "      <td>0.492982</td>\n",
       "      <td>0.896839</td>\n",
       "      <td>0.501426</td>\n",
       "      <td>0.598083</td>\n",
       "      <td>10.014284</td>\n",
       "      <td>0.495835</td>\n",
       "      <td>0.498345</td>\n",
       "      <td>5.469702</td>\n",
       "      <td>5.993690</td>\n",
       "      <td>158263.181901</td>\n",
       "      <td>28.891446</td>\n",
       "      <td>417.677051</td>\n",
       "      <td>3.489672</td>\n",
       "      <td>7.023508</td>\n",
       "      <td>0.358211</td>\n",
       "    </tr>\n",
       "    <tr>\n",
       "      <th>std</th>\n",
       "      <td>21.249509</td>\n",
       "      <td>80.863276</td>\n",
       "      <td>20.550948</td>\n",
       "      <td>0.476271</td>\n",
       "      <td>0.499979</td>\n",
       "      <td>0.304186</td>\n",
       "      <td>0.500026</td>\n",
       "      <td>0.490313</td>\n",
       "      <td>5.783745</td>\n",
       "      <td>0.500011</td>\n",
       "      <td>0.500026</td>\n",
       "      <td>2.859622</td>\n",
       "      <td>3.466359</td>\n",
       "      <td>80575.190806</td>\n",
       "      <td>6.319181</td>\n",
       "      <td>223.748137</td>\n",
       "      <td>2.282687</td>\n",
       "      <td>1.988473</td>\n",
       "      <td>0.479502</td>\n",
       "    </tr>\n",
       "    <tr>\n",
       "      <th>min</th>\n",
       "      <td>18.000000</td>\n",
       "      <td>120.000000</td>\n",
       "      <td>40.000000</td>\n",
       "      <td>0.000000</td>\n",
       "      <td>0.000000</td>\n",
       "      <td>0.000000</td>\n",
       "      <td>0.000000</td>\n",
       "      <td>0.000000</td>\n",
       "      <td>0.002442</td>\n",
       "      <td>0.000000</td>\n",
       "      <td>0.000000</td>\n",
       "      <td>1.000000</td>\n",
       "      <td>0.001263</td>\n",
       "      <td>20062.000000</td>\n",
       "      <td>18.002337</td>\n",
       "      <td>30.000000</td>\n",
       "      <td>0.000000</td>\n",
       "      <td>4.000000</td>\n",
       "      <td>0.000000</td>\n",
       "    </tr>\n",
       "    <tr>\n",
       "      <th>25%</th>\n",
       "      <td>35.000000</td>\n",
       "      <td>192.000000</td>\n",
       "      <td>57.000000</td>\n",
       "      <td>0.000000</td>\n",
       "      <td>0.000000</td>\n",
       "      <td>1.000000</td>\n",
       "      <td>0.000000</td>\n",
       "      <td>0.000000</td>\n",
       "      <td>4.981579</td>\n",
       "      <td>0.000000</td>\n",
       "      <td>0.000000</td>\n",
       "      <td>3.000000</td>\n",
       "      <td>2.998794</td>\n",
       "      <td>88310.000000</td>\n",
       "      <td>23.422985</td>\n",
       "      <td>225.500000</td>\n",
       "      <td>2.000000</td>\n",
       "      <td>5.000000</td>\n",
       "      <td>0.000000</td>\n",
       "    </tr>\n",
       "    <tr>\n",
       "      <th>50%</th>\n",
       "      <td>54.000000</td>\n",
       "      <td>259.000000</td>\n",
       "      <td>75.000000</td>\n",
       "      <td>1.000000</td>\n",
       "      <td>0.000000</td>\n",
       "      <td>1.000000</td>\n",
       "      <td>1.000000</td>\n",
       "      <td>1.000000</td>\n",
       "      <td>10.069559</td>\n",
       "      <td>0.000000</td>\n",
       "      <td>0.000000</td>\n",
       "      <td>5.000000</td>\n",
       "      <td>5.933622</td>\n",
       "      <td>157866.000000</td>\n",
       "      <td>28.768999</td>\n",
       "      <td>417.000000</td>\n",
       "      <td>3.000000</td>\n",
       "      <td>7.000000</td>\n",
       "      <td>0.000000</td>\n",
       "    </tr>\n",
       "    <tr>\n",
       "      <th>75%</th>\n",
       "      <td>72.000000</td>\n",
       "      <td>330.000000</td>\n",
       "      <td>93.000000</td>\n",
       "      <td>1.000000</td>\n",
       "      <td>1.000000</td>\n",
       "      <td>1.000000</td>\n",
       "      <td>1.000000</td>\n",
       "      <td>1.000000</td>\n",
       "      <td>15.050018</td>\n",
       "      <td>1.000000</td>\n",
       "      <td>1.000000</td>\n",
       "      <td>8.000000</td>\n",
       "      <td>9.019124</td>\n",
       "      <td>227749.000000</td>\n",
       "      <td>34.324594</td>\n",
       "      <td>612.000000</td>\n",
       "      <td>5.000000</td>\n",
       "      <td>9.000000</td>\n",
       "      <td>1.000000</td>\n",
       "    </tr>\n",
       "    <tr>\n",
       "      <th>max</th>\n",
       "      <td>90.000000</td>\n",
       "      <td>400.000000</td>\n",
       "      <td>110.000000</td>\n",
       "      <td>1.000000</td>\n",
       "      <td>1.000000</td>\n",
       "      <td>1.000000</td>\n",
       "      <td>1.000000</td>\n",
       "      <td>1.000000</td>\n",
       "      <td>19.998709</td>\n",
       "      <td>1.000000</td>\n",
       "      <td>1.000000</td>\n",
       "      <td>10.000000</td>\n",
       "      <td>11.999313</td>\n",
       "      <td>299954.000000</td>\n",
       "      <td>39.997211</td>\n",
       "      <td>800.000000</td>\n",
       "      <td>7.000000</td>\n",
       "      <td>10.000000</td>\n",
       "      <td>1.000000</td>\n",
       "    </tr>\n",
       "  </tbody>\n",
       "</table>\n",
       "</div>"
      ],
      "text/plain": [
       "               Age  Cholesterol   Heart Rate     Diabetes  Family History  \\\n",
       "count  8763.000000  8763.000000  8763.000000  8763.000000     8763.000000   \n",
       "mean     53.707977   259.877211    75.021682     0.652288        0.492982   \n",
       "std      21.249509    80.863276    20.550948     0.476271        0.499979   \n",
       "min      18.000000   120.000000    40.000000     0.000000        0.000000   \n",
       "25%      35.000000   192.000000    57.000000     0.000000        0.000000   \n",
       "50%      54.000000   259.000000    75.000000     1.000000        0.000000   \n",
       "75%      72.000000   330.000000    93.000000     1.000000        1.000000   \n",
       "max      90.000000   400.000000   110.000000     1.000000        1.000000   \n",
       "\n",
       "           Smoking      Obesity  Alcohol Consumption  Exercise Hours Per Week  \\\n",
       "count  8763.000000  8763.000000          8763.000000              8763.000000   \n",
       "mean      0.896839     0.501426             0.598083                10.014284   \n",
       "std       0.304186     0.500026             0.490313                 5.783745   \n",
       "min       0.000000     0.000000             0.000000                 0.002442   \n",
       "25%       1.000000     0.000000             0.000000                 4.981579   \n",
       "50%       1.000000     1.000000             1.000000                10.069559   \n",
       "75%       1.000000     1.000000             1.000000                15.050018   \n",
       "max       1.000000     1.000000             1.000000                19.998709   \n",
       "\n",
       "       Previous Heart Problems  Medication Use  Stress Level  \\\n",
       "count              8763.000000     8763.000000   8763.000000   \n",
       "mean                  0.495835        0.498345      5.469702   \n",
       "std                   0.500011        0.500026      2.859622   \n",
       "min                   0.000000        0.000000      1.000000   \n",
       "25%                   0.000000        0.000000      3.000000   \n",
       "50%                   0.000000        0.000000      5.000000   \n",
       "75%                   1.000000        1.000000      8.000000   \n",
       "max                   1.000000        1.000000     10.000000   \n",
       "\n",
       "       Sedentary Hours Per Day         Income          BMI  Triglycerides  \\\n",
       "count              8763.000000    8763.000000  8763.000000    8763.000000   \n",
       "mean                  5.993690  158263.181901    28.891446     417.677051   \n",
       "std                   3.466359   80575.190806     6.319181     223.748137   \n",
       "min                   0.001263   20062.000000    18.002337      30.000000   \n",
       "25%                   2.998794   88310.000000    23.422985     225.500000   \n",
       "50%                   5.933622  157866.000000    28.768999     417.000000   \n",
       "75%                   9.019124  227749.000000    34.324594     612.000000   \n",
       "max                  11.999313  299954.000000    39.997211     800.000000   \n",
       "\n",
       "       Physical Activity Days Per Week  Sleep Hours Per Day  Heart Attack Risk  \n",
       "count                      8763.000000          8763.000000        8763.000000  \n",
       "mean                          3.489672             7.023508           0.358211  \n",
       "std                           2.282687             1.988473           0.479502  \n",
       "min                           0.000000             4.000000           0.000000  \n",
       "25%                           2.000000             5.000000           0.000000  \n",
       "50%                           3.000000             7.000000           0.000000  \n",
       "75%                           5.000000             9.000000           1.000000  \n",
       "max                           7.000000            10.000000           1.000000  "
      ]
     },
     "execution_count": 6,
     "metadata": {},
     "output_type": "execute_result"
    }
   ],
   "source": [
    "df.describe()"
   ]
  },
  {
   "cell_type": "markdown",
   "id": "fc684273-dccb-4e3a-aab9-210c1801aeab",
   "metadata": {},
   "source": [
    "### 1.3 Feature Engineering"
   ]
  },
  {
   "cell_type": "code",
   "execution_count": 7,
   "id": "1029733d-4b1a-4d33-85db-a2f77569f4c0",
   "metadata": {
    "tags": []
   },
   "outputs": [
    {
     "data": {
      "text/html": [
       "<div>\n",
       "<style scoped>\n",
       "    .dataframe tbody tr th:only-of-type {\n",
       "        vertical-align: middle;\n",
       "    }\n",
       "\n",
       "    .dataframe tbody tr th {\n",
       "        vertical-align: top;\n",
       "    }\n",
       "\n",
       "    .dataframe thead th {\n",
       "        text-align: right;\n",
       "    }\n",
       "</style>\n",
       "<table border=\"1\" class=\"dataframe\">\n",
       "  <thead>\n",
       "    <tr style=\"text-align: right;\">\n",
       "      <th></th>\n",
       "      <th>Patient ID</th>\n",
       "      <th>Age</th>\n",
       "      <th>Sex</th>\n",
       "      <th>Cholesterol</th>\n",
       "      <th>Heart Rate</th>\n",
       "      <th>Diabetes</th>\n",
       "      <th>Family History</th>\n",
       "      <th>Smoking</th>\n",
       "      <th>Obesity</th>\n",
       "      <th>Alcohol Consumption</th>\n",
       "      <th>...</th>\n",
       "      <th>Physical Activity Days Per Week</th>\n",
       "      <th>Sleep Hours Per Day</th>\n",
       "      <th>Country</th>\n",
       "      <th>Continent</th>\n",
       "      <th>Hemisphere</th>\n",
       "      <th>Heart Attack Risk</th>\n",
       "      <th>SystolicBP</th>\n",
       "      <th>DiastolicBP</th>\n",
       "      <th>MAP</th>\n",
       "      <th>PulsePressure</th>\n",
       "    </tr>\n",
       "  </thead>\n",
       "  <tbody>\n",
       "    <tr>\n",
       "      <th>0</th>\n",
       "      <td>BMW7812</td>\n",
       "      <td>67</td>\n",
       "      <td>Male</td>\n",
       "      <td>208</td>\n",
       "      <td>72</td>\n",
       "      <td>0</td>\n",
       "      <td>0</td>\n",
       "      <td>1</td>\n",
       "      <td>0</td>\n",
       "      <td>0</td>\n",
       "      <td>...</td>\n",
       "      <td>0</td>\n",
       "      <td>6</td>\n",
       "      <td>Argentina</td>\n",
       "      <td>South America</td>\n",
       "      <td>Southern Hemisphere</td>\n",
       "      <td>0</td>\n",
       "      <td>158</td>\n",
       "      <td>88</td>\n",
       "      <td>111.333333</td>\n",
       "      <td>70</td>\n",
       "    </tr>\n",
       "    <tr>\n",
       "      <th>1</th>\n",
       "      <td>CZE1114</td>\n",
       "      <td>21</td>\n",
       "      <td>Male</td>\n",
       "      <td>389</td>\n",
       "      <td>98</td>\n",
       "      <td>1</td>\n",
       "      <td>1</td>\n",
       "      <td>1</td>\n",
       "      <td>1</td>\n",
       "      <td>1</td>\n",
       "      <td>...</td>\n",
       "      <td>1</td>\n",
       "      <td>7</td>\n",
       "      <td>Canada</td>\n",
       "      <td>North America</td>\n",
       "      <td>Northern Hemisphere</td>\n",
       "      <td>0</td>\n",
       "      <td>165</td>\n",
       "      <td>93</td>\n",
       "      <td>117.000000</td>\n",
       "      <td>72</td>\n",
       "    </tr>\n",
       "    <tr>\n",
       "      <th>2</th>\n",
       "      <td>BNI9906</td>\n",
       "      <td>21</td>\n",
       "      <td>Female</td>\n",
       "      <td>324</td>\n",
       "      <td>72</td>\n",
       "      <td>1</td>\n",
       "      <td>0</td>\n",
       "      <td>0</td>\n",
       "      <td>0</td>\n",
       "      <td>0</td>\n",
       "      <td>...</td>\n",
       "      <td>4</td>\n",
       "      <td>4</td>\n",
       "      <td>France</td>\n",
       "      <td>Europe</td>\n",
       "      <td>Northern Hemisphere</td>\n",
       "      <td>0</td>\n",
       "      <td>174</td>\n",
       "      <td>99</td>\n",
       "      <td>124.000000</td>\n",
       "      <td>75</td>\n",
       "    </tr>\n",
       "    <tr>\n",
       "      <th>3</th>\n",
       "      <td>JLN3497</td>\n",
       "      <td>84</td>\n",
       "      <td>Male</td>\n",
       "      <td>383</td>\n",
       "      <td>73</td>\n",
       "      <td>1</td>\n",
       "      <td>1</td>\n",
       "      <td>1</td>\n",
       "      <td>0</td>\n",
       "      <td>1</td>\n",
       "      <td>...</td>\n",
       "      <td>3</td>\n",
       "      <td>4</td>\n",
       "      <td>Canada</td>\n",
       "      <td>North America</td>\n",
       "      <td>Northern Hemisphere</td>\n",
       "      <td>0</td>\n",
       "      <td>163</td>\n",
       "      <td>100</td>\n",
       "      <td>121.000000</td>\n",
       "      <td>63</td>\n",
       "    </tr>\n",
       "    <tr>\n",
       "      <th>4</th>\n",
       "      <td>GFO8847</td>\n",
       "      <td>66</td>\n",
       "      <td>Male</td>\n",
       "      <td>318</td>\n",
       "      <td>93</td>\n",
       "      <td>1</td>\n",
       "      <td>1</td>\n",
       "      <td>1</td>\n",
       "      <td>1</td>\n",
       "      <td>0</td>\n",
       "      <td>...</td>\n",
       "      <td>1</td>\n",
       "      <td>5</td>\n",
       "      <td>Thailand</td>\n",
       "      <td>Asia</td>\n",
       "      <td>Northern Hemisphere</td>\n",
       "      <td>0</td>\n",
       "      <td>91</td>\n",
       "      <td>88</td>\n",
       "      <td>89.000000</td>\n",
       "      <td>3</td>\n",
       "    </tr>\n",
       "  </tbody>\n",
       "</table>\n",
       "<p>5 rows × 29 columns</p>\n",
       "</div>"
      ],
      "text/plain": [
       "  Patient ID  Age     Sex  Cholesterol  Heart Rate  Diabetes  Family History  \\\n",
       "0    BMW7812   67    Male          208          72         0               0   \n",
       "1    CZE1114   21    Male          389          98         1               1   \n",
       "2    BNI9906   21  Female          324          72         1               0   \n",
       "3    JLN3497   84    Male          383          73         1               1   \n",
       "4    GFO8847   66    Male          318          93         1               1   \n",
       "\n",
       "   Smoking  Obesity  Alcohol Consumption  ...  \\\n",
       "0        1        0                    0  ...   \n",
       "1        1        1                    1  ...   \n",
       "2        0        0                    0  ...   \n",
       "3        1        0                    1  ...   \n",
       "4        1        1                    0  ...   \n",
       "\n",
       "   Physical Activity Days Per Week Sleep Hours Per Day    Country  \\\n",
       "0                                0                   6  Argentina   \n",
       "1                                1                   7     Canada   \n",
       "2                                4                   4     France   \n",
       "3                                3                   4     Canada   \n",
       "4                                1                   5   Thailand   \n",
       "\n",
       "       Continent           Hemisphere  Heart Attack Risk  SystolicBP  \\\n",
       "0  South America  Southern Hemisphere                  0         158   \n",
       "1  North America  Northern Hemisphere                  0         165   \n",
       "2         Europe  Northern Hemisphere                  0         174   \n",
       "3  North America  Northern Hemisphere                  0         163   \n",
       "4           Asia  Northern Hemisphere                  0          91   \n",
       "\n",
       "   DiastolicBP         MAP  PulsePressure  \n",
       "0           88  111.333333             70  \n",
       "1           93  117.000000             72  \n",
       "2           99  124.000000             75  \n",
       "3          100  121.000000             63  \n",
       "4           88   89.000000              3  \n",
       "\n",
       "[5 rows x 29 columns]"
      ]
     },
     "execution_count": 7,
     "metadata": {},
     "output_type": "execute_result"
    }
   ],
   "source": [
    "# Creating two new columns 'SystolicBP' and 'DiastolicBP'\n",
    "df[['SystolicBP', 'DiastolicBP']] = df['Blood Pressure'].str.split('/', expand=True).astype(int)\n",
    "df['MAP'] = (df['SystolicBP'] + 2 * df['DiastolicBP']) / 3  #Mean Arterial Pressure (MAP): MAP is the average pressure in a person's arteries during one heartbeat. also reflect the health of the arteries\n",
    "df['PulsePressure'] = df['SystolicBP'] - df['DiastolicBP'] #numerical difference between systolic and diastolic blood pressure. It can give insights into the condition of the arteries.\n",
    "df = df.drop(columns=['Blood Pressure'])\n",
    "df.head(5)"
   ]
  },
  {
   "cell_type": "markdown",
   "id": "da370224-d80e-46d2-8feb-fc2b800c511f",
   "metadata": {},
   "source": [
    "### 1.4 Check How Data Distributed"
   ]
  },
  {
   "cell_type": "code",
   "execution_count": 8,
   "id": "0e620166-75f1-4377-bd21-b039f35c5c46",
   "metadata": {
    "tags": []
   },
   "outputs": [
    {
     "data": {
      "image/png": "[encoded data removed]",
      "text/plain": [
       "<Figure size 1500x800 with 15 Axes>"
      ]
     },
     "metadata": {},
     "output_type": "display_data"
    }
   ],
   "source": [
    "# to check existence of outliers in each column\n",
    "numeric_columns = ['Age','Cholesterol','SystolicBP','DiastolicBP','MAP','PulsePressure','Heart Rate','Physical Activity Days Per Week','Sleep Hours Per Day','BMI','Triglycerides','Exercise Hours Per Week','Stress Level','Sedentary Hours Per Day','Income']\n",
    "\n",
    "# Adjust the grid size based on the number of columns or select a subset to visualize\n",
    "num_plots = len(numeric_columns)\n",
    "num_rows = 4\n",
    "num_cols = 4\n",
    "\n",
    "plt.figure(figsize=(15, 8))\n",
    "for i, column in enumerate(numeric_columns, 1):\n",
    "    if i <= num_rows * num_cols:  # Ensure it stays within the specified grid size\n",
    "        plt.subplot(num_rows, num_cols, i)\n",
    "        sns.boxplot(x=column, data=df, palette=\"viridis\")\n",
    "        plt.title(f\"Box Plot for {column}\")\n",
    "\n",
    "plt.tight_layout()\n",
    "plt.show()"
   ]
  },
  {
   "cell_type": "code",
   "execution_count": 9,
   "id": "a76149dd-b60b-47d5-9f2a-b40deac26cf1",
   "metadata": {
    "tags": []
   },
   "outputs": [
    {
     "data": {
      "image/png": "[encoded data removed]",
      "text/plain": [
       "<Figure size 1500x1500 with 14 Axes>"
      ]
     },
     "metadata": {},
     "output_type": "display_data"
    }
   ],
   "source": [
    "# To check existence of data imbalance\n",
    "catogorical_columns = [\"Sex\",\"Diet\",\"Diabetes\",\"Family History\",\"Smoking\",\"Obesity\",\"Alcohol Consumption\",\"Medication Use\",\"Stress Level\",\"Heart Attack Risk\",\"Country\",\"Continent\",\"Hemisphere\",\"Previous Heart Problems\"]\n",
    "\n",
    "plt.figure(figsize=(15, 15))\n",
    "for i, column in enumerate(catogorical_columns,1):\n",
    "    plt.subplot(5,3 , i)\n",
    "    sns.countplot(x=column, data=df, palette=\"viridis\")\n",
    "    plt.title(f\"Count of {column}\")\n",
    "plt.tight_layout()\n",
    "plt.show()"
   ]
  },
  {
   "cell_type": "markdown",
   "id": "b03f4324-f4e6-4172-a317-a0db21b5ed20",
   "metadata": {},
   "source": [
    "### 1.5 Over Sampling Techniques to Tackle Data Imbalance on target class"
   ]
  },
  {
   "cell_type": "code",
   "execution_count": null,
   "id": "b8738290-1f96-4a32-84f2-42290df4d669",
   "metadata": {
    "tags": []
   },
   "outputs": [],
   "source": []
  },
  {
   "cell_type": "code",
   "execution_count": 10,
   "id": "20723b29-6028-4019-9007-2ac1a2b4c29c",
   "metadata": {
    "tags": []
   },
   "outputs": [],
   "source": [
    "# Separate features and target variable\n",
    "X = df.drop('Heart Attack Risk', axis=1)\n",
    "y = df['Heart Attack Risk']\n",
    "\n",
    "# Instantiate RandomOverSampler to handle imbalance by oversampling the minority class\n",
    "oversampler = RandomOverSampler(random_state=42)\n",
    "X_resampled, y_resampled = oversampler.fit_resample(X, y)\n",
    "\n",
    "# Convert the resampled data back to a DataFrame\n",
    "resampled_data = pd.concat([pd.DataFrame(X_resampled, columns=X.columns), pd.Series(y_resampled, name='Heart Attack Risk')], axis=1)\n"
   ]
  },
  {
   "cell_type": "code",
   "execution_count": 11,
   "id": "f78218de-9f7b-46df-bad8-07ff32073fd5",
   "metadata": {
    "tags": []
   },
   "outputs": [
    {
     "data": {
      "image/png": "[encoded data removed]",
      "text/plain": [
       "<Figure size 1000x400 with 2 Axes>"
      ]
     },
     "metadata": {},
     "output_type": "display_data"
    }
   ],
   "source": [
    "# Count class instances before oversampling\n",
    "class_counts_before = df['Heart Attack Risk'].value_counts()\n",
    "\n",
    "# Count class instances after oversampling\n",
    "class_counts_after = resampled_data['Heart Attack Risk'].value_counts()  # Assuming 'resampled_data' is the oversampled dataset\n",
    "\n",
    "# Plotting class distribution before and after oversampling\n",
    "plt.figure(figsize=(10, 4))\n",
    "\n",
    "plt.subplot(1, 2, 1)\n",
    "plt.bar(class_counts_before.index, class_counts_before.values)\n",
    "plt.title('Class Distribution Before Oversampling')\n",
    "\n",
    "plt.subplot(1, 2, 2)\n",
    "plt.bar(class_counts_after.index, class_counts_after.values)\n",
    "plt.title('Class Distribution After Oversampling')\n",
    "\n",
    "plt.tight_layout()\n",
    "plt.show()"
   ]
  },
  {
   "cell_type": "markdown",
   "id": "27117066-b37c-4a42-b28e-1dd2c4cf24d8",
   "metadata": {},
   "source": [
    "### 1.6 Encoding Categorical Columns (One-hot encoding using Pandas)"
   ]
  },
  {
   "cell_type": "code",
   "execution_count": 12,
   "id": "7ba0974f-16af-4e5b-b81f-41398bb7f044",
   "metadata": {
    "tags": []
   },
   "outputs": [],
   "source": [
    "catogorical_columns = [\"Diet\",\"Diabetes\",\"Family History\",\"Obesity\",\"Alcohol Consumption\",\"Medication Use\",\"Stress Level\",\"Country\",\"Previous Heart Problems\",'Smoking','Sex','Continent','Hemisphere']\n",
    "\n"
   ]
  },
  {
   "cell_type": "code",
   "execution_count": 13,
   "id": "21e08776-72b5-49f4-b4d6-02677f6af2ac",
   "metadata": {
    "tags": []
   },
   "outputs": [
    {
     "data": {
      "text/plain": [
       "['Diet',\n",
       " 'Diabetes',\n",
       " 'Family History',\n",
       " 'Obesity',\n",
       " 'Alcohol Consumption',\n",
       " 'Medication Use',\n",
       " 'Stress Level',\n",
       " 'Country',\n",
       " 'Previous Heart Problems',\n",
       " 'Smoking',\n",
       " 'Sex',\n",
       " 'Continent',\n",
       " 'Hemisphere']"
      ]
     },
     "execution_count": 13,
     "metadata": {},
     "output_type": "execute_result"
    }
   ],
   "source": [
    "catogorical_columns"
   ]
  },
  {
   "cell_type": "code",
   "execution_count": 14,
   "id": "b09eb1f2-8eec-4642-94e2-63fc06452eb4",
   "metadata": {
    "tags": []
   },
   "outputs": [],
   "source": [
    "# resampled_data = resampled_data.drop(columns=['Smoking','Continent','Hemisphere'])"
   ]
  },
  {
   "cell_type": "code",
   "execution_count": 15,
   "id": "7245737c-91ae-496e-bcf2-7fcc52da8250",
   "metadata": {
    "tags": []
   },
   "outputs": [
    {
     "data": {
      "text/html": [
       "<div>\n",
       "<style scoped>\n",
       "    .dataframe tbody tr th:only-of-type {\n",
       "        vertical-align: middle;\n",
       "    }\n",
       "\n",
       "    .dataframe tbody tr th {\n",
       "        vertical-align: top;\n",
       "    }\n",
       "\n",
       "    .dataframe thead th {\n",
       "        text-align: right;\n",
       "    }\n",
       "</style>\n",
       "<table border=\"1\" class=\"dataframe\">\n",
       "  <thead>\n",
       "    <tr style=\"text-align: right;\">\n",
       "      <th></th>\n",
       "      <th>Patient ID</th>\n",
       "      <th>Age</th>\n",
       "      <th>Cholesterol</th>\n",
       "      <th>Heart Rate</th>\n",
       "      <th>Exercise Hours Per Week</th>\n",
       "      <th>Sedentary Hours Per Day</th>\n",
       "      <th>Income</th>\n",
       "      <th>BMI</th>\n",
       "      <th>Triglycerides</th>\n",
       "      <th>Physical Activity Days Per Week</th>\n",
       "      <th>...</th>\n",
       "      <th>Sex_Female</th>\n",
       "      <th>Sex_Male</th>\n",
       "      <th>Continent_Africa</th>\n",
       "      <th>Continent_Asia</th>\n",
       "      <th>Continent_Australia</th>\n",
       "      <th>Continent_Europe</th>\n",
       "      <th>Continent_North America</th>\n",
       "      <th>Continent_South America</th>\n",
       "      <th>Hemisphere_Northern Hemisphere</th>\n",
       "      <th>Hemisphere_Southern Hemisphere</th>\n",
       "    </tr>\n",
       "  </thead>\n",
       "  <tbody>\n",
       "    <tr>\n",
       "      <th>0</th>\n",
       "      <td>BMW7812</td>\n",
       "      <td>67</td>\n",
       "      <td>208</td>\n",
       "      <td>72</td>\n",
       "      <td>4.168189</td>\n",
       "      <td>6.615001</td>\n",
       "      <td>261404</td>\n",
       "      <td>31.251233</td>\n",
       "      <td>286</td>\n",
       "      <td>0</td>\n",
       "      <td>...</td>\n",
       "      <td>False</td>\n",
       "      <td>True</td>\n",
       "      <td>False</td>\n",
       "      <td>False</td>\n",
       "      <td>False</td>\n",
       "      <td>False</td>\n",
       "      <td>False</td>\n",
       "      <td>True</td>\n",
       "      <td>False</td>\n",
       "      <td>True</td>\n",
       "    </tr>\n",
       "    <tr>\n",
       "      <th>1</th>\n",
       "      <td>CZE1114</td>\n",
       "      <td>21</td>\n",
       "      <td>389</td>\n",
       "      <td>98</td>\n",
       "      <td>1.813242</td>\n",
       "      <td>4.963459</td>\n",
       "      <td>285768</td>\n",
       "      <td>27.194973</td>\n",
       "      <td>235</td>\n",
       "      <td>1</td>\n",
       "      <td>...</td>\n",
       "      <td>False</td>\n",
       "      <td>True</td>\n",
       "      <td>False</td>\n",
       "      <td>False</td>\n",
       "      <td>False</td>\n",
       "      <td>False</td>\n",
       "      <td>True</td>\n",
       "      <td>False</td>\n",
       "      <td>True</td>\n",
       "      <td>False</td>\n",
       "    </tr>\n",
       "    <tr>\n",
       "      <th>2</th>\n",
       "      <td>BNI9906</td>\n",
       "      <td>21</td>\n",
       "      <td>324</td>\n",
       "      <td>72</td>\n",
       "      <td>2.078353</td>\n",
       "      <td>9.463426</td>\n",
       "      <td>235282</td>\n",
       "      <td>28.176571</td>\n",
       "      <td>587</td>\n",
       "      <td>4</td>\n",
       "      <td>...</td>\n",
       "      <td>True</td>\n",
       "      <td>False</td>\n",
       "      <td>False</td>\n",
       "      <td>False</td>\n",
       "      <td>False</td>\n",
       "      <td>True</td>\n",
       "      <td>False</td>\n",
       "      <td>False</td>\n",
       "      <td>True</td>\n",
       "      <td>False</td>\n",
       "    </tr>\n",
       "    <tr>\n",
       "      <th>3</th>\n",
       "      <td>JLN3497</td>\n",
       "      <td>84</td>\n",
       "      <td>383</td>\n",
       "      <td>73</td>\n",
       "      <td>9.828130</td>\n",
       "      <td>7.648981</td>\n",
       "      <td>125640</td>\n",
       "      <td>36.464704</td>\n",
       "      <td>378</td>\n",
       "      <td>3</td>\n",
       "      <td>...</td>\n",
       "      <td>False</td>\n",
       "      <td>True</td>\n",
       "      <td>False</td>\n",
       "      <td>False</td>\n",
       "      <td>False</td>\n",
       "      <td>False</td>\n",
       "      <td>True</td>\n",
       "      <td>False</td>\n",
       "      <td>True</td>\n",
       "      <td>False</td>\n",
       "    </tr>\n",
       "    <tr>\n",
       "      <th>4</th>\n",
       "      <td>GFO8847</td>\n",
       "      <td>66</td>\n",
       "      <td>318</td>\n",
       "      <td>93</td>\n",
       "      <td>5.804299</td>\n",
       "      <td>1.514821</td>\n",
       "      <td>160555</td>\n",
       "      <td>21.809144</td>\n",
       "      <td>231</td>\n",
       "      <td>1</td>\n",
       "      <td>...</td>\n",
       "      <td>False</td>\n",
       "      <td>True</td>\n",
       "      <td>False</td>\n",
       "      <td>True</td>\n",
       "      <td>False</td>\n",
       "      <td>False</td>\n",
       "      <td>False</td>\n",
       "      <td>False</td>\n",
       "      <td>True</td>\n",
       "      <td>False</td>\n",
       "    </tr>\n",
       "  </tbody>\n",
       "</table>\n",
       "<p>5 rows × 73 columns</p>\n",
       "</div>"
      ],
      "text/plain": [
       "  Patient ID  Age  Cholesterol  Heart Rate  Exercise Hours Per Week  \\\n",
       "0    BMW7812   67          208          72                 4.168189   \n",
       "1    CZE1114   21          389          98                 1.813242   \n",
       "2    BNI9906   21          324          72                 2.078353   \n",
       "3    JLN3497   84          383          73                 9.828130   \n",
       "4    GFO8847   66          318          93                 5.804299   \n",
       "\n",
       "   Sedentary Hours Per Day  Income        BMI  Triglycerides  \\\n",
       "0                 6.615001  261404  31.251233            286   \n",
       "1                 4.963459  285768  27.194973            235   \n",
       "2                 9.463426  235282  28.176571            587   \n",
       "3                 7.648981  125640  36.464704            378   \n",
       "4                 1.514821  160555  21.809144            231   \n",
       "\n",
       "   Physical Activity Days Per Week  ...  Sex_Female  Sex_Male  \\\n",
       "0                                0  ...       False      True   \n",
       "1                                1  ...       False      True   \n",
       "2                                4  ...        True     False   \n",
       "3                                3  ...       False      True   \n",
       "4                                1  ...       False      True   \n",
       "\n",
       "   Continent_Africa  Continent_Asia  Continent_Australia  Continent_Europe  \\\n",
       "0             False           False                False             False   \n",
       "1             False           False                False             False   \n",
       "2             False           False                False              True   \n",
       "3             False           False                False             False   \n",
       "4             False            True                False             False   \n",
       "\n",
       "   Continent_North America  Continent_South America  \\\n",
       "0                    False                     True   \n",
       "1                     True                    False   \n",
       "2                    False                    False   \n",
       "3                     True                    False   \n",
       "4                    False                    False   \n",
       "\n",
       "   Hemisphere_Northern Hemisphere  Hemisphere_Southern Hemisphere  \n",
       "0                           False                            True  \n",
       "1                            True                           False  \n",
       "2                            True                           False  \n",
       "3                            True                           False  \n",
       "4                            True                           False  \n",
       "\n",
       "[5 rows x 73 columns]"
      ]
     },
     "execution_count": 15,
     "metadata": {},
     "output_type": "execute_result"
    }
   ],
   "source": [
    "# This will replace the columns with the one-hot encoded ones and keep the columns outside 'columns' argument as it is.\n",
    "encoded_data = pd.get_dummies(data = resampled_data,\n",
    "                         prefix = catogorical_columns,\n",
    "                         columns = catogorical_columns)\n",
    "encoded_data.head()"
   ]
  },
  {
   "cell_type": "code",
   "execution_count": 16,
   "id": "55fd1000-52c7-41a5-a6f2-cb5a9441d5d6",
   "metadata": {
    "tags": []
   },
   "outputs": [],
   "source": [
    "X =encoded_data.drop(columns=['Patient ID','Heart Attack Risk'])\n",
    "y = encoded_data['Heart Attack Risk']"
   ]
  },
  {
   "cell_type": "markdown",
   "id": "adec64cd-8adc-46e1-8849-775e72db66f4",
   "metadata": {},
   "source": [
    "### 1.7 Splitting the Dataset"
   ]
  },
  {
   "cell_type": "code",
   "execution_count": 17,
   "id": "a202c126-f1a7-4316-80d8-0b53ed3d0709",
   "metadata": {
    "tags": []
   },
   "outputs": [],
   "source": [
    "X_train, X_test, y_train, y_test = train_test_split(X, y, train_size = 0.8, random_state = 42)"
   ]
  },
  {
   "cell_type": "code",
   "execution_count": 18,
   "id": "e513c964-5220-4065-8cb4-c7f021384237",
   "metadata": {
    "tags": []
   },
   "outputs": [
    {
     "name": "stdout",
     "output_type": "stream",
     "text": [
      "train samples: 8998\n",
      "test samples: 2250\n",
      "target proportion: 0.4994\n"
     ]
    }
   ],
   "source": [
    "print(f'train samples: {len(X_train)}\\ntest samples: {len(X_test)}')\n",
    "print(f'target proportion: {sum(y_train)/len(y_train):.4f}')"
   ]
  },
  {
   "cell_type": "markdown",
   "id": "920d14e6-b666-4f58-847b-7e6061593a84",
   "metadata": {
    "tags": []
   },
   "source": [
    "# 2. Model Building"
   ]
  },
  {
   "cell_type": "markdown",
   "id": "7c2edcdf-9652-4c8d-8b40-21662108158f",
   "metadata": {},
   "source": [
    "## 2.1 Decision Tree"
   ]
  },
  {
   "cell_type": "markdown",
   "id": "71c36430-cea3-400e-95b2-1a0042955de3",
   "metadata": {},
   "source": [
    "### 2.1.1 Base Model"
   ]
  },
  {
   "cell_type": "code",
   "execution_count": 19,
   "id": "13baee19-f653-40a7-a121-5be95ec882f7",
   "metadata": {
    "tags": []
   },
   "outputs": [
    {
     "name": "stdout",
     "output_type": "stream",
     "text": [
      "Metrics train:\n",
      "\tAccuracy score: 1.0000\n",
      "Metrics test:\n",
      "\tAccuracy score: 0.7058\n"
     ]
    }
   ],
   "source": [
    "dt_base_model = DecisionTreeClassifier(random_state = 42)\n",
    "dt_base_model.fit(X_train, y_train)\n",
    "print(f\"Metrics train:\\n\\tAccuracy score: {accuracy_score(dt_base_model.predict(X_train),y_train):.4f}\\nMetrics test:\\n\\tAccuracy score: {accuracy_score(dt_base_model.predict(X_test),y_test):.4f}\")"
   ]
  },
  {
   "cell_type": "code",
   "execution_count": 20,
   "id": "b3a4e406-27cf-43f7-b2e8-c00c9f560577",
   "metadata": {
    "tags": []
   },
   "outputs": [
    {
     "name": "stdout",
     "output_type": "stream",
     "text": [
      "Average AUC of Random Forest Base Model: 0.6639137486759048\n"
     ]
    }
   ],
   "source": [
    "from sklearn.model_selection import cross_val_score\n",
    "from sklearn.metrics import roc_auc_score\n",
    "\n",
    "def auc_scorer(model, X, y):\n",
    "    y_pred = model.predict_proba(X)[:, 1]\n",
    "    return roc_auc_score(y, y_pred)\n",
    "\n",
    "# Use cross-validation to evaluate the model\n",
    "auc_scores = cross_val_score(dt_base_model, X_train, y_train, cv=5, scoring=auc_scorer)\n",
    "\n",
    "# Calculate the average AUC score\n",
    "average_auc = auc_scores.mean()\n",
    "print(\"Average AUC of Random Forest Base Model:\", average_auc)"
   ]
  },
  {
   "cell_type": "markdown",
   "id": "5c26278e-b62e-4216-9df0-94753f104c27",
   "metadata": {},
   "source": [
    "**Analysis**\n",
    "\n",
    "The Decision Tree base model is showing overfitting problems, as the train accuracy is 1.0 and the test accuracy is around 0.7. The AUC score of 0.66 indicates that the model is not performing well in distinguishing between positive and negative classes. To optimize the model, I will perform hyperparameter tuning using GridSearchCV and analyze how it improves the model in terms of addressing the overfitting problem and increasing the AUC scores."
   ]
  },
  {
   "cell_type": "markdown",
   "id": "6605460b-0542-4f54-b71f-7f34e1bc2b68",
   "metadata": {},
   "source": [
    "### 2.1.2 Model after Hyperparameter tuning using Grid Search Cross Validation"
   ]
  },
  {
   "cell_type": "code",
   "execution_count": 67,
   "id": "7d97b00b-b140-4d65-924b-f82bd6ba93b6",
   "metadata": {
    "tags": []
   },
   "outputs": [],
   "source": [
    "param_grid = {\n",
    "    'max_depth': [None, 5, 10, 20],\n",
    "    'min_samples_split': [2, 5, 10],\n",
    "    'min_samples_leaf': [1, 2, 4, 8, 16, 20]\n",
    "}"
   ]
  },
  {
   "cell_type": "code",
   "execution_count": 68,
   "id": "1b924ab8-e016-42f2-a026-a35185f803ad",
   "metadata": {
    "tags": []
   },
   "outputs": [],
   "source": [
    "grid_search_dt = GridSearchCV(estimator=dt_base_model, param_grid=param_grid, cv=5)"
   ]
  },
  {
   "cell_type": "code",
   "execution_count": 69,
   "id": "f5460bab-b188-49e2-96aa-dd9ef3ab4109",
   "metadata": {
    "tags": []
   },
   "outputs": [
    {
     "data": {
      "text/html": [
       "<style>#sk-container-id-6 {color: black;}#sk-container-id-6 pre{padding: 0;}#sk-container-id-6 div.sk-toggleable {background-color: white;}#sk-container-id-6 label.sk-toggleable__label {cursor: pointer;display: block;width: 100%;margin-bottom: 0;padding: 0.3em;box-sizing: border-box;text-align: center;}#sk-container-id-6 label.sk-toggleable__label-arrow:before {content: \"▸\";float: left;margin-right: 0.25em;color: #696969;}#sk-container-id-6 label.sk-toggleable__label-arrow:hover:before {color: black;}#sk-container-id-6 div.sk-estimator:hover label.sk-toggleable__label-arrow:before {color: black;}#sk-container-id-6 div.sk-toggleable__content {max-height: 0;max-width: 0;overflow: hidden;text-align: left;background-color: #f0f8ff;}#sk-container-id-6 div.sk-toggleable__content pre {margin: 0.2em;color: black;border-radius: 0.25em;background-color: #f0f8ff;}#sk-container-id-6 input.sk-toggleable__control:checked~div.sk-toggleable__content {max-height: 200px;max-width: 100%;overflow: auto;}#sk-container-id-6 input.sk-toggleable__control:checked~label.sk-toggleable__label-arrow:before {content: \"▾\";}#sk-container-id-6 div.sk-estimator input.sk-toggleable__control:checked~label.sk-toggleable__label {background-color: #d4ebff;}#sk-container-id-6 div.sk-label input.sk-toggleable__control:checked~label.sk-toggleable__label {background-color: #d4ebff;}#sk-container-id-6 input.sk-hidden--visually {border: 0;clip: rect(1px 1px 1px 1px);clip: rect(1px, 1px, 1px, 1px);height: 1px;margin: -1px;overflow: hidden;padding: 0;position: absolute;width: 1px;}#sk-container-id-6 div.sk-estimator {font-family: monospace;background-color: #f0f8ff;border: 1px dotted black;border-radius: 0.25em;box-sizing: border-box;margin-bottom: 0.5em;}#sk-container-id-6 div.sk-estimator:hover {background-color: #d4ebff;}#sk-container-id-6 div.sk-parallel-item::after {content: \"\";width: 100%;border-bottom: 1px solid gray;flex-grow: 1;}#sk-container-id-6 div.sk-label:hover label.sk-toggleable__label {background-color: #d4ebff;}#sk-container-id-6 div.sk-serial::before {content: \"\";position: absolute;border-left: 1px solid gray;box-sizing: border-box;top: 0;bottom: 0;left: 50%;z-index: 0;}#sk-container-id-6 div.sk-serial {display: flex;flex-direction: column;align-items: center;background-color: white;padding-right: 0.2em;padding-left: 0.2em;position: relative;}#sk-container-id-6 div.sk-item {position: relative;z-index: 1;}#sk-container-id-6 div.sk-parallel {display: flex;align-items: stretch;justify-content: center;background-color: white;position: relative;}#sk-container-id-6 div.sk-item::before, #sk-container-id-6 div.sk-parallel-item::before {content: \"\";position: absolute;border-left: 1px solid gray;box-sizing: border-box;top: 0;bottom: 0;left: 50%;z-index: -1;}#sk-container-id-6 div.sk-parallel-item {display: flex;flex-direction: column;z-index: 1;position: relative;background-color: white;}#sk-container-id-6 div.sk-parallel-item:first-child::after {align-self: flex-end;width: 50%;}#sk-container-id-6 div.sk-parallel-item:last-child::after {align-self: flex-start;width: 50%;}#sk-container-id-6 div.sk-parallel-item:only-child::after {width: 0;}#sk-container-id-6 div.sk-dashed-wrapped {border: 1px dashed gray;margin: 0 0.4em 0.5em 0.4em;box-sizing: border-box;padding-bottom: 0.4em;background-color: white;}#sk-container-id-6 div.sk-label label {font-family: monospace;font-weight: bold;display: inline-block;line-height: 1.2em;}#sk-container-id-6 div.sk-label-container {text-align: center;}#sk-container-id-6 div.sk-container {/* jupyter's `normalize.less` sets `[hidden] { display: none; }` but bootstrap.min.css set `[hidden] { display: none !important; }` so we also need the `!important` here to be able to override the default hidden behavior on the sphinx rendered scikit-learn.org. See: https://github.com/scikit-learn/scikit-learn/issues/21755 */display: inline-block !important;position: relative;}#sk-container-id-6 div.sk-text-repr-fallback {display: none;}</style><div id=\"sk-container-id-6\" class=\"sk-top-container\"><div class=\"sk-text-repr-fallback\"><pre>GridSearchCV(cv=5, estimator=DecisionTreeClassifier(random_state=42),\n",
       "             param_grid={&#x27;max_depth&#x27;: [None, 5, 10, 20],\n",
       "                         &#x27;min_samples_leaf&#x27;: [1, 2, 4, 8, 16, 20],\n",
       "                         &#x27;min_samples_split&#x27;: [2, 5, 10]})</pre><b>In a Jupyter environment, please rerun this cell to show the HTML representation or trust the notebook. <br />On GitHub, the HTML representation is unable to render, please try loading this page with nbviewer.org.</b></div><div class=\"sk-container\" hidden><div class=\"sk-item sk-dashed-wrapped\"><div class=\"sk-label-container\"><div class=\"sk-label sk-toggleable\"><input class=\"sk-toggleable__control sk-hidden--visually\" id=\"sk-estimator-id-14\" type=\"checkbox\" ><label for=\"sk-estimator-id-14\" class=\"sk-toggleable__label sk-toggleable__label-arrow\">GridSearchCV</label><div class=\"sk-toggleable__content\"><pre>GridSearchCV(cv=5, estimator=DecisionTreeClassifier(random_state=42),\n",
       "             param_grid={&#x27;max_depth&#x27;: [None, 5, 10, 20],\n",
       "                         &#x27;min_samples_leaf&#x27;: [1, 2, 4, 8, 16, 20],\n",
       "                         &#x27;min_samples_split&#x27;: [2, 5, 10]})</pre></div></div></div><div class=\"sk-parallel\"><div class=\"sk-parallel-item\"><div class=\"sk-item\"><div class=\"sk-label-container\"><div class=\"sk-label sk-toggleable\"><input class=\"sk-toggleable__control sk-hidden--visually\" id=\"sk-estimator-id-15\" type=\"checkbox\" ><label for=\"sk-estimator-id-15\" class=\"sk-toggleable__label sk-toggleable__label-arrow\">estimator: DecisionTreeClassifier</label><div class=\"sk-toggleable__content\"><pre>DecisionTreeClassifier(random_state=42)</pre></div></div></div><div class=\"sk-serial\"><div class=\"sk-item\"><div class=\"sk-estimator sk-toggleable\"><input class=\"sk-toggleable__control sk-hidden--visually\" id=\"sk-estimator-id-16\" type=\"checkbox\" ><label for=\"sk-estimator-id-16\" class=\"sk-toggleable__label sk-toggleable__label-arrow\">DecisionTreeClassifier</label><div class=\"sk-toggleable__content\"><pre>DecisionTreeClassifier(random_state=42)</pre></div></div></div></div></div></div></div></div></div></div>"
      ],
      "text/plain": [
       "GridSearchCV(cv=5, estimator=DecisionTreeClassifier(random_state=42),\n",
       "             param_grid={'max_depth': [None, 5, 10, 20],\n",
       "                         'min_samples_leaf': [1, 2, 4, 8, 16, 20],\n",
       "                         'min_samples_split': [2, 5, 10]})"
      ]
     },
     "execution_count": 69,
     "metadata": {},
     "output_type": "execute_result"
    }
   ],
   "source": [
    "grid_search_dt.fit(X_train, y_train)"
   ]
  },
  {
   "cell_type": "code",
   "execution_count": 70,
   "id": "5b8858ed-2c08-4a83-927d-f6315a79ab54",
   "metadata": {
    "tags": []
   },
   "outputs": [
    {
     "name": "stdout",
     "output_type": "stream",
     "text": [
      "Best parameters: {'max_depth': None, 'min_samples_leaf': 1, 'min_samples_split': 2}\n"
     ]
    }
   ],
   "source": [
    "print(\"Best parameters:\", grid_search_dt.best_params_)"
   ]
  },
  {
   "cell_type": "code",
   "execution_count": 71,
   "id": "eeb3e266-fb7e-40e4-ae84-c012039ac30e",
   "metadata": {
    "tags": []
   },
   "outputs": [
    {
     "name": "stdout",
     "output_type": "stream",
     "text": [
      "Best estimator: DecisionTreeClassifier(random_state=42)\n"
     ]
    }
   ],
   "source": [
    "print(\"Best estimator:\", grid_search_dt.best_estimator_)"
   ]
  },
  {
   "cell_type": "code",
   "execution_count": 72,
   "id": "e4c2dc90-1943-4e34-b166-d3f267f55fb7",
   "metadata": {
    "tags": []
   },
   "outputs": [
    {
     "name": "stdout",
     "output_type": "stream",
     "text": [
      "Accuracy on train set: 1.0\n",
      "Accuracy on test set: 0.7057777777777777\n"
     ]
    }
   ],
   "source": [
    "# Evaluate the best model on the test set\n",
    "best_model_dt = grid_search_dt.best_estimator_\n",
    "accuracy_train_dt = best_model_dt.score(X_train, y_train)\n",
    "accuracy_test_dt = best_model_dt.score(X_test, y_test)\n",
    "print(\"Accuracy on train set:\", accuracy_train)\n",
    "print(\"Accuracy on test set:\", accuracy_test)"
   ]
  },
  {
   "cell_type": "code",
   "execution_count": 96,
   "id": "8e38c388-90db-40da-910c-8b85d8f5ea30",
   "metadata": {
    "tags": []
   },
   "outputs": [
    {
     "name": "stdout",
     "output_type": "stream",
     "text": [
      "Average AUC of Decision Tree Best Model: 0.6639137486759048\n"
     ]
    }
   ],
   "source": [
    "\n",
    "def auc_scorer(model, X, y):\n",
    "    y_pred = model.predict_proba(X)[:, 1]\n",
    "    return roc_auc_score(y, y_pred)\n",
    "\n",
    "# Use cross-validation to evaluate the model\n",
    "auc_scores_dt = cross_val_score(best_model_dt, X_train, y_train, cv=5, scoring=auc_scorer)\n",
    "\n",
    "# Calculate the average AUC score\n",
    "average_auc_dt = auc_scores_dt.mean()\n",
    "print(\"Average AUC of Decision Tree Best Model:\", average_auc_dt)"
   ]
  },
  {
   "cell_type": "markdown",
   "id": "04f223d4-a44e-42f2-9b7e-4e5c2cb3902d",
   "metadata": {},
   "source": [
    "**Analysis**\n",
    "\n",
    "The hyperparameter tuning using grid search cross-validation had almost zero effect on optimizing the model, as the test accuracy and AUC score remained the same as the base model. One possible reason for this is that decision trees are prone to overfitting, and even with hyperparameter tuning, it may be challenging to find a set of hyperparameters that significantly reduce overfitting while maintaining model performance. Next, I am going to train the model using the Random Forest algorithm to see if it performs better than the decision tree algorithm."
   ]
  },
  {
   "cell_type": "markdown",
   "id": "ea2354f4-1cad-40bf-83f4-5568fe2d916e",
   "metadata": {},
   "source": [
    "## 2.2 Random Forest"
   ]
  },
  {
   "cell_type": "markdown",
   "id": "27d34cff-1579-4945-adff-5d60030bc955",
   "metadata": {},
   "source": [
    "### 2.2.1 Base Model"
   ]
  },
  {
   "cell_type": "code",
   "execution_count": 74,
   "id": "2643b76d-dff0-4ce0-a672-519fe76da93c",
   "metadata": {},
   "outputs": [
    {
     "name": "stdout",
     "output_type": "stream",
     "text": [
      "Metrics train:\n",
      "\tAccuracy score: 1.0000\n",
      "Metrics test:\n",
      "\tAccuracy score: 0.7871\n"
     ]
    }
   ],
   "source": [
    "rf_base_model = RandomForestClassifier(random_state = 42)\n",
    "rf_base_model.fit(X_train, y_train)\n",
    "print(f\"Metrics train:\\n\\tAccuracy score: {accuracy_score(rf_base_model.predict(X_train),y_train):.4f}\\nMetrics test:\\n\\tAccuracy score: {accuracy_score(rf_base_model.predict(X_test),y_test):.4f}\")"
   ]
  },
  {
   "cell_type": "code",
   "execution_count": 75,
   "id": "7491768b-e376-4530-8596-9f1f019c8c0c",
   "metadata": {},
   "outputs": [
    {
     "name": "stdout",
     "output_type": "stream",
     "text": [
      "Average AUC of Random Forest Base Model: 0.7876047068029918\n"
     ]
    }
   ],
   "source": [
    "\n",
    "\n",
    "# Define the evaluation metric as AUC\n",
    "def auc_scorer(model, X, y):\n",
    "    y_pred = model.predict_proba(X)[:, 1]\n",
    "    return roc_auc_score(y, y_pred)\n",
    "\n",
    "# Use cross-validation to evaluate the model\n",
    "auc_scores = cross_val_score(rf_base_model, X_train, y_train, cv=5, scoring=auc_scorer)\n",
    "\n",
    "# Calculate the average AUC score\n",
    "average_auc = auc_scores.mean()\n",
    "print(\"Average AUC of Random Forest Base Model:\", average_auc)"
   ]
  },
  {
   "cell_type": "markdown",
   "id": "81d928a2-2cf0-4716-bf2d-451316357fb3",
   "metadata": {},
   "source": [
    "**Analysis**\n",
    "\n",
    "The Random Forest base model performed better than the decision tree model, as it has a higher test accuracy and AUC score compared to the decision tree. This indicates that it has a relatively lower overfitting problem and is performing better at distinguishing between the positive and negative classes compared to the decision tree. However, the train accuracy is still 1.0 while the test accuracy is around 0.78, indicating that there is still room to optimize the model to tackle overfitting problems. Next, I will perform hyperparameter tuning using GridSearchCV and analyze how it improves the model in terms of addressing the overfitting problem and increasing the AUC scores."
   ]
  },
  {
   "cell_type": "markdown",
   "id": "6a3bf8f4-7f0f-4e5e-9655-356f746c6a3c",
   "metadata": {},
   "source": [
    "### 2.2.2 Model after Hyperparameter tuning using Grid Search Cross Validation"
   ]
  },
  {
   "cell_type": "code",
   "execution_count": 76,
   "id": "147fd5fb-d133-415b-91ee-3f35dfe6d459",
   "metadata": {
    "tags": []
   },
   "outputs": [],
   "source": [
    "param_grid = {\n",
    "    'n_estimators': [10, 50, 100],\n",
    "    'max_depth': [None, 5, 10, 15],\n",
    "    'min_samples_leaf': [1,3, 5, 7],\n",
    "    'max_features': ['sqrt', 'log2', 0.5]\n",
    "}"
   ]
  },
  {
   "cell_type": "code",
   "execution_count": 77,
   "id": "596f0522-a4c3-4458-9ff4-3169f1c220ac",
   "metadata": {
    "tags": []
   },
   "outputs": [],
   "source": [
    "grid_search_rf = GridSearchCV(estimator=rf_base_model, param_grid=param_grid, cv=5)"
   ]
  },
  {
   "cell_type": "code",
   "execution_count": 78,
   "id": "24fa22b0-42fa-4c07-b2dd-b7cc284619fb",
   "metadata": {
    "tags": []
   },
   "outputs": [
    {
     "data": {
      "text/html": [
       "<style>#sk-container-id-7 {color: black;}#sk-container-id-7 pre{padding: 0;}#sk-container-id-7 div.sk-toggleable {background-color: white;}#sk-container-id-7 label.sk-toggleable__label {cursor: pointer;display: block;width: 100%;margin-bottom: 0;padding: 0.3em;box-sizing: border-box;text-align: center;}#sk-container-id-7 label.sk-toggleable__label-arrow:before {content: \"▸\";float: left;margin-right: 0.25em;color: #696969;}#sk-container-id-7 label.sk-toggleable__label-arrow:hover:before {color: black;}#sk-container-id-7 div.sk-estimator:hover label.sk-toggleable__label-arrow:before {color: black;}#sk-container-id-7 div.sk-toggleable__content {max-height: 0;max-width: 0;overflow: hidden;text-align: left;background-color: #f0f8ff;}#sk-container-id-7 div.sk-toggleable__content pre {margin: 0.2em;color: black;border-radius: 0.25em;background-color: #f0f8ff;}#sk-container-id-7 input.sk-toggleable__control:checked~div.sk-toggleable__content {max-height: 200px;max-width: 100%;overflow: auto;}#sk-container-id-7 input.sk-toggleable__control:checked~label.sk-toggleable__label-arrow:before {content: \"▾\";}#sk-container-id-7 div.sk-estimator input.sk-toggleable__control:checked~label.sk-toggleable__label {background-color: #d4ebff;}#sk-container-id-7 div.sk-label input.sk-toggleable__control:checked~label.sk-toggleable__label {background-color: #d4ebff;}#sk-container-id-7 input.sk-hidden--visually {border: 0;clip: rect(1px 1px 1px 1px);clip: rect(1px, 1px, 1px, 1px);height: 1px;margin: -1px;overflow: hidden;padding: 0;position: absolute;width: 1px;}#sk-container-id-7 div.sk-estimator {font-family: monospace;background-color: #f0f8ff;border: 1px dotted black;border-radius: 0.25em;box-sizing: border-box;margin-bottom: 0.5em;}#sk-container-id-7 div.sk-estimator:hover {background-color: #d4ebff;}#sk-container-id-7 div.sk-parallel-item::after {content: \"\";width: 100%;border-bottom: 1px solid gray;flex-grow: 1;}#sk-container-id-7 div.sk-label:hover label.sk-toggleable__label {background-color: #d4ebff;}#sk-container-id-7 div.sk-serial::before {content: \"\";position: absolute;border-left: 1px solid gray;box-sizing: border-box;top: 0;bottom: 0;left: 50%;z-index: 0;}#sk-container-id-7 div.sk-serial {display: flex;flex-direction: column;align-items: center;background-color: white;padding-right: 0.2em;padding-left: 0.2em;position: relative;}#sk-container-id-7 div.sk-item {position: relative;z-index: 1;}#sk-container-id-7 div.sk-parallel {display: flex;align-items: stretch;justify-content: center;background-color: white;position: relative;}#sk-container-id-7 div.sk-item::before, #sk-container-id-7 div.sk-parallel-item::before {content: \"\";position: absolute;border-left: 1px solid gray;box-sizing: border-box;top: 0;bottom: 0;left: 50%;z-index: -1;}#sk-container-id-7 div.sk-parallel-item {display: flex;flex-direction: column;z-index: 1;position: relative;background-color: white;}#sk-container-id-7 div.sk-parallel-item:first-child::after {align-self: flex-end;width: 50%;}#sk-container-id-7 div.sk-parallel-item:last-child::after {align-self: flex-start;width: 50%;}#sk-container-id-7 div.sk-parallel-item:only-child::after {width: 0;}#sk-container-id-7 div.sk-dashed-wrapped {border: 1px dashed gray;margin: 0 0.4em 0.5em 0.4em;box-sizing: border-box;padding-bottom: 0.4em;background-color: white;}#sk-container-id-7 div.sk-label label {font-family: monospace;font-weight: bold;display: inline-block;line-height: 1.2em;}#sk-container-id-7 div.sk-label-container {text-align: center;}#sk-container-id-7 div.sk-container {/* jupyter's `normalize.less` sets `[hidden] { display: none; }` but bootstrap.min.css set `[hidden] { display: none !important; }` so we also need the `!important` here to be able to override the default hidden behavior on the sphinx rendered scikit-learn.org. See: https://github.com/scikit-learn/scikit-learn/issues/21755 */display: inline-block !important;position: relative;}#sk-container-id-7 div.sk-text-repr-fallback {display: none;}</style><div id=\"sk-container-id-7\" class=\"sk-top-container\"><div class=\"sk-text-repr-fallback\"><pre>GridSearchCV(cv=5, estimator=RandomForestClassifier(random_state=42),\n",
       "             param_grid={&#x27;max_depth&#x27;: [None, 5, 10, 15],\n",
       "                         &#x27;max_features&#x27;: [&#x27;sqrt&#x27;, &#x27;log2&#x27;, 0.5],\n",
       "                         &#x27;min_samples_leaf&#x27;: [1, 3, 5, 7],\n",
       "                         &#x27;n_estimators&#x27;: [10, 50, 100]})</pre><b>In a Jupyter environment, please rerun this cell to show the HTML representation or trust the notebook. <br />On GitHub, the HTML representation is unable to render, please try loading this page with nbviewer.org.</b></div><div class=\"sk-container\" hidden><div class=\"sk-item sk-dashed-wrapped\"><div class=\"sk-label-container\"><div class=\"sk-label sk-toggleable\"><input class=\"sk-toggleable__control sk-hidden--visually\" id=\"sk-estimator-id-17\" type=\"checkbox\" ><label for=\"sk-estimator-id-17\" class=\"sk-toggleable__label sk-toggleable__label-arrow\">GridSearchCV</label><div class=\"sk-toggleable__content\"><pre>GridSearchCV(cv=5, estimator=RandomForestClassifier(random_state=42),\n",
       "             param_grid={&#x27;max_depth&#x27;: [None, 5, 10, 15],\n",
       "                         &#x27;max_features&#x27;: [&#x27;sqrt&#x27;, &#x27;log2&#x27;, 0.5],\n",
       "                         &#x27;min_samples_leaf&#x27;: [1, 3, 5, 7],\n",
       "                         &#x27;n_estimators&#x27;: [10, 50, 100]})</pre></div></div></div><div class=\"sk-parallel\"><div class=\"sk-parallel-item\"><div class=\"sk-item\"><div class=\"sk-label-container\"><div class=\"sk-label sk-toggleable\"><input class=\"sk-toggleable__control sk-hidden--visually\" id=\"sk-estimator-id-18\" type=\"checkbox\" ><label for=\"sk-estimator-id-18\" class=\"sk-toggleable__label sk-toggleable__label-arrow\">estimator: RandomForestClassifier</label><div class=\"sk-toggleable__content\"><pre>RandomForestClassifier(random_state=42)</pre></div></div></div><div class=\"sk-serial\"><div class=\"sk-item\"><div class=\"sk-estimator sk-toggleable\"><input class=\"sk-toggleable__control sk-hidden--visually\" id=\"sk-estimator-id-19\" type=\"checkbox\" ><label for=\"sk-estimator-id-19\" class=\"sk-toggleable__label sk-toggleable__label-arrow\">RandomForestClassifier</label><div class=\"sk-toggleable__content\"><pre>RandomForestClassifier(random_state=42)</pre></div></div></div></div></div></div></div></div></div></div>"
      ],
      "text/plain": [
       "GridSearchCV(cv=5, estimator=RandomForestClassifier(random_state=42),\n",
       "             param_grid={'max_depth': [None, 5, 10, 15],\n",
       "                         'max_features': ['sqrt', 'log2', 0.5],\n",
       "                         'min_samples_leaf': [1, 3, 5, 7],\n",
       "                         'n_estimators': [10, 50, 100]})"
      ]
     },
     "execution_count": 78,
     "metadata": {},
     "output_type": "execute_result"
    }
   ],
   "source": [
    "grid_search_rf.fit(X_train, y_train)"
   ]
  },
  {
   "cell_type": "code",
   "execution_count": 79,
   "id": "5196aa65-df3f-4e1a-b2ae-6cd0f97ea772",
   "metadata": {
    "tags": []
   },
   "outputs": [
    {
     "name": "stdout",
     "output_type": "stream",
     "text": [
      "Best parameters: {'max_depth': None, 'max_features': 'log2', 'min_samples_leaf': 1, 'n_estimators': 100}\n"
     ]
    }
   ],
   "source": [
    "print(\"Best parameters:\", grid_search_rf.best_params_)"
   ]
  },
  {
   "cell_type": "code",
   "execution_count": 80,
   "id": "fd681bcb-ee3a-402f-9435-babaf893a70f",
   "metadata": {
    "tags": []
   },
   "outputs": [
    {
     "name": "stdout",
     "output_type": "stream",
     "text": [
      "Best estimator: RandomForestClassifier(max_features='log2', random_state=42)\n"
     ]
    }
   ],
   "source": [
    "print(\"Best estimator:\", grid_search_rf.best_estimator_)"
   ]
  },
  {
   "cell_type": "code",
   "execution_count": 81,
   "id": "6ef10d5f-0309-4d00-bdc2-0f07443280c3",
   "metadata": {
    "tags": []
   },
   "outputs": [
    {
     "name": "stdout",
     "output_type": "stream",
     "text": [
      "Accuracy on train set: 1.0\n",
      "Accuracy on test set: 0.7911111111111111\n"
     ]
    }
   ],
   "source": [
    "# Evaluate the best model on the test set\n",
    "best_model_rf = grid_search_rf.best_estimator_\n",
    "accuracy_rf_train = best_model_rf.score(X_train, y_train)\n",
    "accuracy_rf_test = best_model_rf.score(X_test, y_test)\n",
    "print(\"Accuracy on train set:\", accuracy_rf_train)\n",
    "print(\"Accuracy on test set:\", accuracy_rf_test)\n"
   ]
  },
  {
   "cell_type": "code",
   "execution_count": 82,
   "id": "958afa4b-233c-4f89-87c9-93a9b1034a24",
   "metadata": {
    "tags": []
   },
   "outputs": [
    {
     "name": "stdout",
     "output_type": "stream",
     "text": [
      "Average AUC: 0.7876047068029918\n"
     ]
    }
   ],
   "source": [
    "# Define the evaluation metric as AUC\n",
    "def auc_scorer(model, X, y):\n",
    "    y_pred = model.predict_proba(X)[:, 1]\n",
    "    return roc_auc_score(y, y_pred)\n",
    "\n",
    "# Use cross-validation to evaluate the model\n",
    "auc_scores_rf = cross_val_score(best_model_rf, X_train, y_train, cv=5, scoring=auc_scorer)\n",
    "\n",
    "# Calculate the average AUC score\n",
    "average_auc_rf = auc_scores.mean()\n",
    "print(\"Average AUC:\", average_auc)\n"
   ]
  },
  {
   "cell_type": "markdown",
   "id": "7dfdcef3-e61a-4d50-b49e-cdd6101aa5df",
   "metadata": {},
   "source": [
    "**Analysis**\n",
    "\n",
    "Just like the decision tree, hyperparameter tuning did not significantly improve the model performance, as the test accuracy only slightly increased from 0.78 to 0.79, and the AUC score remained the same as the base model. One possible reason for this is that the hyperparameter tuning I have chosen is not effective for this model."
   ]
  },
  {
   "cell_type": "markdown",
   "id": "8f5fc141-895f-48a7-bd91-b54bdccc5422",
   "metadata": {},
   "source": [
    "## 2.3XG Boost"
   ]
  },
  {
   "cell_type": "markdown",
   "id": "be29e606-f216-4ef0-b1eb-8852976d0c68",
   "metadata": {},
   "source": [
    "### 2.3.1 Base Model"
   ]
  },
  {
   "cell_type": "code",
   "execution_count": 87,
   "id": "5d12fafb-ec26-4a79-ac45-9d1eb66b3a18",
   "metadata": {
    "tags": []
   },
   "outputs": [],
   "source": [
    "n = int(len(X_train)*0.8) ## Let's use 80% to train and 20% to eval\n",
    "X_train_fit, X_train_eval, y_train_fit, y_train_eval = X_train[:n], X_train[n:], y_train[:n], y_train[n:]"
   ]
  },
  {
   "cell_type": "code",
   "execution_count": 88,
   "id": "e0926d71-ddea-49f9-8864-d93bdb925f0b",
   "metadata": {
    "tags": []
   },
   "outputs": [
    {
     "data": {
      "text/html": [
       "<style>#sk-container-id-9 {color: black;}#sk-container-id-9 pre{padding: 0;}#sk-container-id-9 div.sk-toggleable {background-color: white;}#sk-container-id-9 label.sk-toggleable__label {cursor: pointer;display: block;width: 100%;margin-bottom: 0;padding: 0.3em;box-sizing: border-box;text-align: center;}#sk-container-id-9 label.sk-toggleable__label-arrow:before {content: \"▸\";float: left;margin-right: 0.25em;color: #696969;}#sk-container-id-9 label.sk-toggleable__label-arrow:hover:before {color: black;}#sk-container-id-9 div.sk-estimator:hover label.sk-toggleable__label-arrow:before {color: black;}#sk-container-id-9 div.sk-toggleable__content {max-height: 0;max-width: 0;overflow: hidden;text-align: left;background-color: #f0f8ff;}#sk-container-id-9 div.sk-toggleable__content pre {margin: 0.2em;color: black;border-radius: 0.25em;background-color: #f0f8ff;}#sk-container-id-9 input.sk-toggleable__control:checked~div.sk-toggleable__content {max-height: 200px;max-width: 100%;overflow: auto;}#sk-container-id-9 input.sk-toggleable__control:checked~label.sk-toggleable__label-arrow:before {content: \"▾\";}#sk-container-id-9 div.sk-estimator input.sk-toggleable__control:checked~label.sk-toggleable__label {background-color: #d4ebff;}#sk-container-id-9 div.sk-label input.sk-toggleable__control:checked~label.sk-toggleable__label {background-color: #d4ebff;}#sk-container-id-9 input.sk-hidden--visually {border: 0;clip: rect(1px 1px 1px 1px);clip: rect(1px, 1px, 1px, 1px);height: 1px;margin: -1px;overflow: hidden;padding: 0;position: absolute;width: 1px;}#sk-container-id-9 div.sk-estimator {font-family: monospace;background-color: #f0f8ff;border: 1px dotted black;border-radius: 0.25em;box-sizing: border-box;margin-bottom: 0.5em;}#sk-container-id-9 div.sk-estimator:hover {background-color: #d4ebff;}#sk-container-id-9 div.sk-parallel-item::after {content: \"\";width: 100%;border-bottom: 1px solid gray;flex-grow: 1;}#sk-container-id-9 div.sk-label:hover label.sk-toggleable__label {background-color: #d4ebff;}#sk-container-id-9 div.sk-serial::before {content: \"\";position: absolute;border-left: 1px solid gray;box-sizing: border-box;top: 0;bottom: 0;left: 50%;z-index: 0;}#sk-container-id-9 div.sk-serial {display: flex;flex-direction: column;align-items: center;background-color: white;padding-right: 0.2em;padding-left: 0.2em;position: relative;}#sk-container-id-9 div.sk-item {position: relative;z-index: 1;}#sk-container-id-9 div.sk-parallel {display: flex;align-items: stretch;justify-content: center;background-color: white;position: relative;}#sk-container-id-9 div.sk-item::before, #sk-container-id-9 div.sk-parallel-item::before {content: \"\";position: absolute;border-left: 1px solid gray;box-sizing: border-box;top: 0;bottom: 0;left: 50%;z-index: -1;}#sk-container-id-9 div.sk-parallel-item {display: flex;flex-direction: column;z-index: 1;position: relative;background-color: white;}#sk-container-id-9 div.sk-parallel-item:first-child::after {align-self: flex-end;width: 50%;}#sk-container-id-9 div.sk-parallel-item:last-child::after {align-self: flex-start;width: 50%;}#sk-container-id-9 div.sk-parallel-item:only-child::after {width: 0;}#sk-container-id-9 div.sk-dashed-wrapped {border: 1px dashed gray;margin: 0 0.4em 0.5em 0.4em;box-sizing: border-box;padding-bottom: 0.4em;background-color: white;}#sk-container-id-9 div.sk-label label {font-family: monospace;font-weight: bold;display: inline-block;line-height: 1.2em;}#sk-container-id-9 div.sk-label-container {text-align: center;}#sk-container-id-9 div.sk-container {/* jupyter's `normalize.less` sets `[hidden] { display: none; }` but bootstrap.min.css set `[hidden] { display: none !important; }` so we also need the `!important` here to be able to override the default hidden behavior on the sphinx rendered scikit-learn.org. See: https://github.com/scikit-learn/scikit-learn/issues/21755 */display: inline-block !important;position: relative;}#sk-container-id-9 div.sk-text-repr-fallback {display: none;}</style><div id=\"sk-container-id-9\" class=\"sk-top-container\"><div class=\"sk-text-repr-fallback\"><pre>XGBClassifier(base_score=None, booster=None, callbacks=None,\n",
       "              colsample_bylevel=None, colsample_bynode=None,\n",
       "              colsample_bytree=None, device=None, early_stopping_rounds=None,\n",
       "              enable_categorical=False, eval_metric=None, feature_types=None,\n",
       "              gamma=None, grow_policy=None, importance_type=None,\n",
       "              interaction_constraints=None, learning_rate=None, max_bin=None,\n",
       "              max_cat_threshold=None, max_cat_to_onehot=None,\n",
       "              max_delta_step=None, max_depth=None, max_leaves=None,\n",
       "              min_child_weight=None, missing=nan, monotone_constraints=None,\n",
       "              multi_strategy=None, n_estimators=None, n_jobs=None,\n",
       "              num_parallel_tree=None, random_state=42, ...)</pre><b>In a Jupyter environment, please rerun this cell to show the HTML representation or trust the notebook. <br />On GitHub, the HTML representation is unable to render, please try loading this page with nbviewer.org.</b></div><div class=\"sk-container\" hidden><div class=\"sk-item\"><div class=\"sk-estimator sk-toggleable\"><input class=\"sk-toggleable__control sk-hidden--visually\" id=\"sk-estimator-id-21\" type=\"checkbox\" checked><label for=\"sk-estimator-id-21\" class=\"sk-toggleable__label sk-toggleable__label-arrow\">XGBClassifier</label><div class=\"sk-toggleable__content\"><pre>XGBClassifier(base_score=None, booster=None, callbacks=None,\n",
       "              colsample_bylevel=None, colsample_bynode=None,\n",
       "              colsample_bytree=None, device=None, early_stopping_rounds=None,\n",
       "              enable_categorical=False, eval_metric=None, feature_types=None,\n",
       "              gamma=None, grow_policy=None, importance_type=None,\n",
       "              interaction_constraints=None, learning_rate=None, max_bin=None,\n",
       "              max_cat_threshold=None, max_cat_to_onehot=None,\n",
       "              max_delta_step=None, max_depth=None, max_leaves=None,\n",
       "              min_child_weight=None, missing=nan, monotone_constraints=None,\n",
       "              multi_strategy=None, n_estimators=None, n_jobs=None,\n",
       "              num_parallel_tree=None, random_state=42, ...)</pre></div></div></div></div></div>"
      ],
      "text/plain": [
       "XGBClassifier(base_score=None, booster=None, callbacks=None,\n",
       "              colsample_bylevel=None, colsample_bynode=None,\n",
       "              colsample_bytree=None, device=None, early_stopping_rounds=None,\n",
       "              enable_categorical=False, eval_metric=None, feature_types=None,\n",
       "              gamma=None, grow_policy=None, importance_type=None,\n",
       "              interaction_constraints=None, learning_rate=None, max_bin=None,\n",
       "              max_cat_threshold=None, max_cat_to_onehot=None,\n",
       "              max_delta_step=None, max_depth=None, max_leaves=None,\n",
       "              min_child_weight=None, missing=nan, monotone_constraints=None,\n",
       "              multi_strategy=None, n_estimators=None, n_jobs=None,\n",
       "              num_parallel_tree=None, random_state=42, ...)"
      ]
     },
     "execution_count": 88,
     "metadata": {},
     "output_type": "execute_result"
    }
   ],
   "source": [
    "xg_base_model = XGBClassifier(random_state = 42, verbosity = 0)\n",
    "xg_base_model.fit(X_train_fit,y_train_fit, eval_set = [(X_train_eval,y_train_eval)], verbose = False)"
   ]
  },
  {
   "cell_type": "code",
   "execution_count": 116,
   "id": "9fdf996e-cfaa-4e37-ba15-58886e326c40",
   "metadata": {
    "tags": []
   },
   "outputs": [
    {
     "name": "stdout",
     "output_type": "stream",
     "text": [
      "Metrics train:\n",
      "\tAccuracy score: 0.9284\n",
      "Metrics test:\n",
      "\tAccuracy score: 0.6982\n"
     ]
    }
   ],
   "source": [
    "print(f\"Metrics train:\\n\\tAccuracy score: {accuracy_score(xg_base_model.predict(X_train),y_train):.4f}\\nMetrics test:\\n\\tAccuracy score: {accuracy_score(xg_base_model.predict(X_test),y_test):.4f}\")\n",
    "accuracy_train_xg_base = accuracy_score(xg_base_model.predict(X_train),y_train)\n",
    "accuracy_test_xg_base = accuracy_score(xg_base_model.predict(X_test),y_test)\n"
   ]
  },
  {
   "cell_type": "code",
   "execution_count": 94,
   "id": "6768a2d4-64b4-48fd-8395-e4f64c06d096",
   "metadata": {
    "tags": []
   },
   "outputs": [
    {
     "name": "stdout",
     "output_type": "stream",
     "text": [
      "Average AUC: 0.7477460376626425\n"
     ]
    }
   ],
   "source": [
    "# Define the AUC scorer function\n",
    "def auc_scorer(model, X, y):\n",
    "    y_pred = model.predict_proba(X)[:, 1]\n",
    "    return roc_auc_score(y, y_pred)\n",
    "\n",
    "# Use cross-validation to evaluate the model\n",
    "auc_scores_xg = cross_val_score(xg_base_model, X_train, y_train, cv=5, scoring=auc_scorer)\n",
    "\n",
    "# Calculate the average AUC score\n",
    "average_auc_xg = auc_scores_xg.mean()\n",
    "print(\"Average AUC:\", average_auc_xg)"
   ]
  },
  {
   "cell_type": "markdown",
   "id": "2c08e1da-dbc6-400e-83ba-3f9b61efc102",
   "metadata": {},
   "source": [
    "**Analysis**\n",
    "\n",
    "The XGBoost base model performed relatively well in predicting unseen data and distinguishing between the positive and negative classes compared to the decision tree model, as the difference between the train accuracy and test accuracy is not as significant as that of the decision tree model. However, it is not performing better than the random forest model. To optimize the XGBoost model, next I will perform hyperparameter tuning."
   ]
  },
  {
   "cell_type": "markdown",
   "id": "b0391668-2f8c-4a02-806d-091598a65272",
   "metadata": {},
   "source": [
    "### 2.3.2 Model after Hyperparameter tuning using Grid Search Cross Validation"
   ]
  },
  {
   "cell_type": "code",
   "execution_count": 43,
   "id": "bc0da60f-42c5-47ad-be0a-f7849639e7df",
   "metadata": {
    "tags": []
   },
   "outputs": [],
   "source": [
    "param_grid = {\n",
    "    'learning_rate': [0.1, 0.01],\n",
    "    'max_depth': [None, 2, 4],\n",
    "    'n_estimators': [10, 50, 100],\n",
    "    'min_child_weight': [1, 5, 10],\n",
    "    'gamma': [0, 0.1, 0.2],\n",
    "    'reg_lambda': [0, 0.1, 1],\n",
    "    'reg_alpha': [0, 0.1, 1],\n",
    "    'early_stopping_rounds': [5, 10, 20]\n",
    "}"
   ]
  },
  {
   "cell_type": "code",
   "execution_count": 44,
   "id": "f2b46580-34f6-4021-b837-156d665a7512",
   "metadata": {
    "tags": []
   },
   "outputs": [],
   "source": [
    "grid_search_xgb = GridSearchCV(estimator=xg_base_model, param_grid=param_grid, cv=3)"
   ]
  },
  {
   "cell_type": "code",
   "execution_count": 34,
   "id": "1f23cd1b-1072-4be1-836a-b9530de5a85c",
   "metadata": {
    "tags": []
   },
   "outputs": [
    {
     "data": {
      "text/html": [
       "<style>#sk-container-id-3 {color: black;}#sk-container-id-3 pre{padding: 0;}#sk-container-id-3 div.sk-toggleable {background-color: white;}#sk-container-id-3 label.sk-toggleable__label {cursor: pointer;display: block;width: 100%;margin-bottom: 0;padding: 0.3em;box-sizing: border-box;text-align: center;}#sk-container-id-3 label.sk-toggleable__label-arrow:before {content: \"▸\";float: left;margin-right: 0.25em;color: #696969;}#sk-container-id-3 label.sk-toggleable__label-arrow:hover:before {color: black;}#sk-container-id-3 div.sk-estimator:hover label.sk-toggleable__label-arrow:before {color: black;}#sk-container-id-3 div.sk-toggleable__content {max-height: 0;max-width: 0;overflow: hidden;text-align: left;background-color: #f0f8ff;}#sk-container-id-3 div.sk-toggleable__content pre {margin: 0.2em;color: black;border-radius: 0.25em;background-color: #f0f8ff;}#sk-container-id-3 input.sk-toggleable__control:checked~div.sk-toggleable__content {max-height: 200px;max-width: 100%;overflow: auto;}#sk-container-id-3 input.sk-toggleable__control:checked~label.sk-toggleable__label-arrow:before {content: \"▾\";}#sk-container-id-3 div.sk-estimator input.sk-toggleable__control:checked~label.sk-toggleable__label {background-color: #d4ebff;}#sk-container-id-3 div.sk-label input.sk-toggleable__control:checked~label.sk-toggleable__label {background-color: #d4ebff;}#sk-container-id-3 input.sk-hidden--visually {border: 0;clip: rect(1px 1px 1px 1px);clip: rect(1px, 1px, 1px, 1px);height: 1px;margin: -1px;overflow: hidden;padding: 0;position: absolute;width: 1px;}#sk-container-id-3 div.sk-estimator {font-family: monospace;background-color: #f0f8ff;border: 1px dotted black;border-radius: 0.25em;box-sizing: border-box;margin-bottom: 0.5em;}#sk-container-id-3 div.sk-estimator:hover {background-color: #d4ebff;}#sk-container-id-3 div.sk-parallel-item::after {content: \"\";width: 100%;border-bottom: 1px solid gray;flex-grow: 1;}#sk-container-id-3 div.sk-label:hover label.sk-toggleable__label {background-color: #d4ebff;}#sk-container-id-3 div.sk-serial::before {content: \"\";position: absolute;border-left: 1px solid gray;box-sizing: border-box;top: 0;bottom: 0;left: 50%;z-index: 0;}#sk-container-id-3 div.sk-serial {display: flex;flex-direction: column;align-items: center;background-color: white;padding-right: 0.2em;padding-left: 0.2em;position: relative;}#sk-container-id-3 div.sk-item {position: relative;z-index: 1;}#sk-container-id-3 div.sk-parallel {display: flex;align-items: stretch;justify-content: center;background-color: white;position: relative;}#sk-container-id-3 div.sk-item::before, #sk-container-id-3 div.sk-parallel-item::before {content: \"\";position: absolute;border-left: 1px solid gray;box-sizing: border-box;top: 0;bottom: 0;left: 50%;z-index: -1;}#sk-container-id-3 div.sk-parallel-item {display: flex;flex-direction: column;z-index: 1;position: relative;background-color: white;}#sk-container-id-3 div.sk-parallel-item:first-child::after {align-self: flex-end;width: 50%;}#sk-container-id-3 div.sk-parallel-item:last-child::after {align-self: flex-start;width: 50%;}#sk-container-id-3 div.sk-parallel-item:only-child::after {width: 0;}#sk-container-id-3 div.sk-dashed-wrapped {border: 1px dashed gray;margin: 0 0.4em 0.5em 0.4em;box-sizing: border-box;padding-bottom: 0.4em;background-color: white;}#sk-container-id-3 div.sk-label label {font-family: monospace;font-weight: bold;display: inline-block;line-height: 1.2em;}#sk-container-id-3 div.sk-label-container {text-align: center;}#sk-container-id-3 div.sk-container {/* jupyter's `normalize.less` sets `[hidden] { display: none; }` but bootstrap.min.css set `[hidden] { display: none !important; }` so we also need the `!important` here to be able to override the default hidden behavior on the sphinx rendered scikit-learn.org. See: https://github.com/scikit-learn/scikit-learn/issues/21755 */display: inline-block !important;position: relative;}#sk-container-id-3 div.sk-text-repr-fallback {display: none;}</style><div id=\"sk-container-id-3\" class=\"sk-top-container\"><div class=\"sk-text-repr-fallback\"><pre>GridSearchCV(cv=3,\n",
       "             estimator=XGBClassifier(base_score=None, booster=None,\n",
       "                                     callbacks=None, colsample_bylevel=None,\n",
       "                                     colsample_bynode=None,\n",
       "                                     colsample_bytree=None, device=None,\n",
       "                                     early_stopping_rounds=None,\n",
       "                                     enable_categorical=False, eval_metric=None,\n",
       "                                     feature_types=None, gamma=None,\n",
       "                                     grow_policy=None, importance_type=None,\n",
       "                                     interaction_constraints=None,\n",
       "                                     learning_rate=None,...\n",
       "                                     max_leaves=None, min_child_weight=None,\n",
       "                                     missing=nan, monotone_constraints=None,\n",
       "                                     multi_strategy=None, n_estimators=None,\n",
       "                                     n_jobs=None, num_parallel_tree=None,\n",
       "                                     random_state=42, ...),\n",
       "             param_grid={&#x27;early_stopping_rounds&#x27;: [5, 10, 20],\n",
       "                         &#x27;gamma&#x27;: [0, 0.1, 0.2], &#x27;learning_rate&#x27;: [0.1, 0.01],\n",
       "                         &#x27;max_depth&#x27;: [None, 2, 4],\n",
       "                         &#x27;min_child_weight&#x27;: [1, 5, 10],\n",
       "                         &#x27;n_estimators&#x27;: [10, 50, 100],\n",
       "                         &#x27;reg_alpha&#x27;: [0, 0.1, 1], &#x27;reg_lambda&#x27;: [0, 0.1, 1]})</pre><b>In a Jupyter environment, please rerun this cell to show the HTML representation or trust the notebook. <br />On GitHub, the HTML representation is unable to render, please try loading this page with nbviewer.org.</b></div><div class=\"sk-container\" hidden><div class=\"sk-item sk-dashed-wrapped\"><div class=\"sk-label-container\"><div class=\"sk-label sk-toggleable\"><input class=\"sk-toggleable__control sk-hidden--visually\" id=\"sk-estimator-id-3\" type=\"checkbox\" ><label for=\"sk-estimator-id-3\" class=\"sk-toggleable__label sk-toggleable__label-arrow\">GridSearchCV</label><div class=\"sk-toggleable__content\"><pre>GridSearchCV(cv=3,\n",
       "             estimator=XGBClassifier(base_score=None, booster=None,\n",
       "                                     callbacks=None, colsample_bylevel=None,\n",
       "                                     colsample_bynode=None,\n",
       "                                     colsample_bytree=None, device=None,\n",
       "                                     early_stopping_rounds=None,\n",
       "                                     enable_categorical=False, eval_metric=None,\n",
       "                                     feature_types=None, gamma=None,\n",
       "                                     grow_policy=None, importance_type=None,\n",
       "                                     interaction_constraints=None,\n",
       "                                     learning_rate=None,...\n",
       "                                     max_leaves=None, min_child_weight=None,\n",
       "                                     missing=nan, monotone_constraints=None,\n",
       "                                     multi_strategy=None, n_estimators=None,\n",
       "                                     n_jobs=None, num_parallel_tree=None,\n",
       "                                     random_state=42, ...),\n",
       "             param_grid={&#x27;early_stopping_rounds&#x27;: [5, 10, 20],\n",
       "                         &#x27;gamma&#x27;: [0, 0.1, 0.2], &#x27;learning_rate&#x27;: [0.1, 0.01],\n",
       "                         &#x27;max_depth&#x27;: [None, 2, 4],\n",
       "                         &#x27;min_child_weight&#x27;: [1, 5, 10],\n",
       "                         &#x27;n_estimators&#x27;: [10, 50, 100],\n",
       "                         &#x27;reg_alpha&#x27;: [0, 0.1, 1], &#x27;reg_lambda&#x27;: [0, 0.1, 1]})</pre></div></div></div><div class=\"sk-parallel\"><div class=\"sk-parallel-item\"><div class=\"sk-item\"><div class=\"sk-label-container\"><div class=\"sk-label sk-toggleable\"><input class=\"sk-toggleable__control sk-hidden--visually\" id=\"sk-estimator-id-4\" type=\"checkbox\" ><label for=\"sk-estimator-id-4\" class=\"sk-toggleable__label sk-toggleable__label-arrow\">estimator: XGBClassifier</label><div class=\"sk-toggleable__content\"><pre>XGBClassifier(base_score=None, booster=None, callbacks=None,\n",
       "              colsample_bylevel=None, colsample_bynode=None,\n",
       "              colsample_bytree=None, device=None, early_stopping_rounds=None,\n",
       "              enable_categorical=False, eval_metric=None, feature_types=None,\n",
       "              gamma=None, grow_policy=None, importance_type=None,\n",
       "              interaction_constraints=None, learning_rate=None, max_bin=None,\n",
       "              max_cat_threshold=None, max_cat_to_onehot=None,\n",
       "              max_delta_step=None, max_depth=None, max_leaves=None,\n",
       "              min_child_weight=None, missing=nan, monotone_constraints=None,\n",
       "              multi_strategy=None, n_estimators=None, n_jobs=None,\n",
       "              num_parallel_tree=None, random_state=42, ...)</pre></div></div></div><div class=\"sk-serial\"><div class=\"sk-item\"><div class=\"sk-estimator sk-toggleable\"><input class=\"sk-toggleable__control sk-hidden--visually\" id=\"sk-estimator-id-5\" type=\"checkbox\" ><label for=\"sk-estimator-id-5\" class=\"sk-toggleable__label sk-toggleable__label-arrow\">XGBClassifier</label><div class=\"sk-toggleable__content\"><pre>XGBClassifier(base_score=None, booster=None, callbacks=None,\n",
       "              colsample_bylevel=None, colsample_bynode=None,\n",
       "              colsample_bytree=None, device=None, early_stopping_rounds=None,\n",
       "              enable_categorical=False, eval_metric=None, feature_types=None,\n",
       "              gamma=None, grow_policy=None, importance_type=None,\n",
       "              interaction_constraints=None, learning_rate=None, max_bin=None,\n",
       "              max_cat_threshold=None, max_cat_to_onehot=None,\n",
       "              max_delta_step=None, max_depth=None, max_leaves=None,\n",
       "              min_child_weight=None, missing=nan, monotone_constraints=None,\n",
       "              multi_strategy=None, n_estimators=None, n_jobs=None,\n",
       "              num_parallel_tree=None, random_state=42, ...)</pre></div></div></div></div></div></div></div></div></div></div>"
      ],
      "text/plain": [
       "GridSearchCV(cv=3,\n",
       "             estimator=XGBClassifier(base_score=None, booster=None,\n",
       "                                     callbacks=None, colsample_bylevel=None,\n",
       "                                     colsample_bynode=None,\n",
       "                                     colsample_bytree=None, device=None,\n",
       "                                     early_stopping_rounds=None,\n",
       "                                     enable_categorical=False, eval_metric=None,\n",
       "                                     feature_types=None, gamma=None,\n",
       "                                     grow_policy=None, importance_type=None,\n",
       "                                     interaction_constraints=None,\n",
       "                                     learning_rate=None,...\n",
       "                                     max_leaves=None, min_child_weight=None,\n",
       "                                     missing=nan, monotone_constraints=None,\n",
       "                                     multi_strategy=None, n_estimators=None,\n",
       "                                     n_jobs=None, num_parallel_tree=None,\n",
       "                                     random_state=42, ...),\n",
       "             param_grid={'early_stopping_rounds': [5, 10, 20],\n",
       "                         'gamma': [0, 0.1, 0.2], 'learning_rate': [0.1, 0.01],\n",
       "                         'max_depth': [None, 2, 4],\n",
       "                         'min_child_weight': [1, 5, 10],\n",
       "                         'n_estimators': [10, 50, 100],\n",
       "                         'reg_alpha': [0, 0.1, 1], 'reg_lambda': [0, 0.1, 1]})"
      ]
     },
     "execution_count": 34,
     "metadata": {},
     "output_type": "execute_result"
    }
   ],
   "source": [
    "grid_search_xgb.fit(X_train_fit,y_train_fit, eval_set = [(X_train_eval,y_train_eval)],verbose = False)"
   ]
  },
  {
   "cell_type": "code",
   "execution_count": 35,
   "id": "8d4a9f63-4ea7-457d-b15b-5eb357dc3730",
   "metadata": {
    "tags": []
   },
   "outputs": [
    {
     "name": "stdout",
     "output_type": "stream",
     "text": [
      "Best parameters: {'early_stopping_rounds': 20, 'gamma': 0, 'learning_rate': 0.1, 'max_depth': None, 'min_child_weight': 1, 'n_estimators': 100, 'reg_alpha': 1, 'reg_lambda': 0}\n",
      "Best estimator: XGBClassifier(base_score=None, booster=None, callbacks=None,\n",
      "              colsample_bylevel=None, colsample_bynode=None,\n",
      "              colsample_bytree=None, device=None, early_stopping_rounds=20,\n",
      "              enable_categorical=False, eval_metric=None, feature_types=None,\n",
      "              gamma=0, grow_policy=None, importance_type=None,\n",
      "              interaction_constraints=None, learning_rate=0.1, max_bin=None,\n",
      "              max_cat_threshold=None, max_cat_to_onehot=None,\n",
      "              max_delta_step=None, max_depth=None, max_leaves=None,\n",
      "              min_child_weight=1, missing=nan, monotone_constraints=None,\n",
      "              multi_strategy=None, n_estimators=100, n_jobs=None,\n",
      "              num_parallel_tree=None, random_state=42, ...)\n"
     ]
    }
   ],
   "source": [
    "# Print the best parameters\n",
    "print(\"Best parameters:\", grid_search_xgb.best_params_)\n",
    "\n",
    "# Print the best estimator\n",
    "print(\"Best estimator:\", grid_search_xgb.best_estimator_)"
   ]
  },
  {
   "cell_type": "code",
   "execution_count": 36,
   "id": "c28f1da6-ff55-477d-85e9-e2620e17bd07",
   "metadata": {
    "tags": []
   },
   "outputs": [
    {
     "name": "stdout",
     "output_type": "stream",
     "text": [
      "Accuracy on test set: 0.890864636585908\n",
      "Accuracy on test set: 0.6484444444444445\n"
     ]
    }
   ],
   "source": [
    "# Evaluate the best model on the test set\n",
    "best_model_xgb = grid_search_xgb.best_estimator_\n",
    "accuracy_XGB_train = best_model_xgb.score(X_train, y_train)\n",
    "accuracy_XGB_test = best_model_xgb.score(X_test, y_test)\n",
    "print(\"Accuracy on test set:\", accuracy_XGB_train)\n",
    "print(\"Accuracy on test set:\", accuracy_XGB_test)"
   ]
  },
  {
   "cell_type": "code",
   "execution_count": 43,
   "id": "a1ab23ab-f3e2-45a8-a0d1-37451aa7238c",
   "metadata": {
    "tags": []
   },
   "outputs": [
    {
     "name": "stdout",
     "output_type": "stream",
     "text": [
      "AUC Score: 0.6555555555555556\n"
     ]
    }
   ],
   "source": [
    "auc_score_xgb = best_model_xgb.score(X_train_eval, y_train_eval)\n",
    "print(\"AUC Score:\", auc_score)"
   ]
  },
  {
   "cell_type": "markdown",
   "id": "ec2bc4ca-ffe5-42e2-8d73-86be317bd5a4",
   "metadata": {},
   "source": [
    "**Analysis**\n",
    "\n",
    "Hyperparameter tuning worsened the model performance. One possible reason for this is that the hyperparameter grid used in tuning may not have included the optimal hyperparameters, leading to suboptimal choices. Expanding the hyperparameter grid to include a wider range of values can be used to find better parameters and improve the model. However, it is taking too long to run the program. Using a distributed computer system like Hadoop or Spark is one option to tackle this problem."
   ]
  },
  {
   "cell_type": "markdown",
   "id": "f85dbb47-3f7b-49e5-916e-b847db324b89",
   "metadata": {
    "tags": []
   },
   "source": [
    "### Model Comparision"
   ]
  },
  {
   "cell_type": "markdown",
   "id": "23e0a306-04de-4d03-8e91-e972169a3017",
   "metadata": {},
   "source": [
    "Selecting the best model from each of the three algorithms and comparing their performance in terms of tackling overfitting and distinguishing between the positive and negative classes."
   ]
  },
  {
   "cell_type": "code",
   "execution_count": 133,
   "id": "54a8227b-1189-4fdc-9433-dd8a96f0bcf3",
   "metadata": {
    "tags": []
   },
   "outputs": [
    {
     "data": {
      "image/png": "[encoded data removed]",
      "text/plain": [
       "<Figure size 1200x600 with 1 Axes>"
      ]
     },
     "metadata": {},
     "output_type": "display_data"
    }
   ],
   "source": [
    "models = ['Decision Tree', 'Random Forest', 'XGBoost']\n",
    "train_accuracy = [accuracy_train_dt, accuracy_rf_train, accuracy_train_xg_base]\n",
    "test_accuracy = [accuracy_test_dt, accuracy_rf_test, accuracy_test_xg_base]\n",
    "auc_scores = [average_auc_dt, average_auc_rf, average_auc_xg]\n",
    "\n",
    "bar_width = 0.2\n",
    "index = np.arange(len(models))\n",
    "\n",
    "fig, ax = plt.subplots(figsize=(12, 6))\n",
    "bar1 = ax.bar(index - bar_width, train_accuracy, bar_width, label='Train Accuracy')\n",
    "bar2 = ax.bar(index, test_accuracy, bar_width, label='Test Accuracy')\n",
    "bar3 = ax.bar(index + bar_width, auc_scores, bar_width, label='AUC')\n",
    "\n",
    "# Adding the numerical values on top of each bar\n",
    "for bars in [bar1, bar2, bar3]:\n",
    "    for bar in bars:\n",
    "        yval = bar.get_height()\n",
    "        ax.text(bar.get_x() + bar.get_width()/2, yval + 0.01, round(yval, 2), va='bottom')\n",
    "\n",
    "ax.set_xlabel('Models')\n",
    "ax.set_ylabel('Scores')\n",
    "ax.set_title('Model Comparison')\n",
    "ax.set_xticks(index)\n",
    "ax.set_xticklabels(models)\n",
    "ax.legend()\n",
    "\n",
    "plt.tight_layout()\n",
    "plt.show()"
   ]
  },
  {
   "cell_type": "markdown",
   "id": "f88fd007-d7f3-45a4-8e28-9470327b5744",
   "metadata": {},
   "source": [
    "**Analysis**\n",
    "\n",
    "Random Forest model has a relatively higher test accuracy score of 0.79, indicating that the model is performing better on unseen data compared to other models. It also has a higher AUC score of 0.79, indicating that the model is better at distinguishing between positive and negative classes compared to other models. It can be concluded that the Random Forest, after hyperparameter tuning, performs best among all other models. However, there is still room to optimize the model to minimize overfitting problems."
   ]
  },
  {
   "cell_type": "markdown",
   "id": "12c28c88-87e1-47f8-8d14-d7d3488288ce",
   "metadata": {},
   "source": [
    "**discussion**\n",
    "\n",
    "Hyperparameter tunning method did not improve the model performance on all the 3 algorithms, decision tree, random forest, and XGBoost. the possible reason for that is hyperparameter grid used in tuning may not have included the optimal hyperparameters,expanding the hyperparameter grid to include a wider range of values can be used to find better parameters and improve the model. However, it is taking too long to run the program. Using a distributed computer system like Hadoop or Spark is one option to tackle this problem.\n",
    "\n"
   ]
  }
 ],
 "metadata": {
  "kernelspec": {
   "display_name": "Python 3 (ipykernel)",
   "language": "python",
   "name": "python3"
  },
  "language_info": {
   "codemirror_mode": {
    "name": "ipython",
    "version": 3
   },
   "file_extension": ".py",
   "mimetype": "text/x-python",
   "name": "python",
   "nbconvert_exporter": "python",
   "pygments_lexer": "ipython3",
   "version": "3.10.13"
  }
 },
 "nbformat": 4,
 "nbformat_minor": 5
}
